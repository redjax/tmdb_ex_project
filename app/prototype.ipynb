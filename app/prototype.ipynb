{
 "cells": [
  {
   "attachments": {},
   "cell_type": "markdown",
   "metadata": {},
   "source": [
    "# Prototype\n",
    "[*v0.1*]\n",
    "\n",
    "Prototyping with TMDB."
   ]
  },
  {
   "attachments": {},
   "cell_type": "markdown",
   "metadata": {},
   "source": [
    "# Setup\n",
    "\n",
    "Cells in this section handle notebook setup, like importing packages and functions/vars from scripts."
   ]
  },
  {
   "attachments": {},
   "cell_type": "markdown",
   "metadata": {},
   "source": [
    "## Imports\n",
    "\n",
    "Import `stdlib` packages (i.e. `pathlib.Path`) and package dependencies."
   ]
  },
  {
   "attachments": {},
   "cell_type": "markdown",
   "metadata": {},
   "source": [
    "### stdlib"
   ]
  },
  {
   "cell_type": "code",
   "execution_count": 1,
   "metadata": {},
   "outputs": [],
   "source": [
    "from pathlib import Path\n",
    "import json\n",
    "from typing import Any, Optional, Union\n",
    "import random"
   ]
  },
  {
   "attachments": {},
   "cell_type": "markdown",
   "metadata": {},
   "source": [
    "### Custom modules & vars"
   ]
  },
  {
   "cell_type": "code",
   "execution_count": 2,
   "metadata": {},
   "outputs": [],
   "source": [
    "## Constants\n",
    "from lib.constants import (\n",
    "    auth_endpoint,\n",
    "    movie_endpoint,\n",
    "    token_endpoint,\n",
    "    api_key,\n",
    "    base_url,\n",
    "    tv_endpoint,\n",
    "    session_endpoint,\n",
    "    popular_tv_endpoint,\n",
    "    basic_auth_headers,\n",
    ")"
   ]
  },
  {
   "cell_type": "code",
   "execution_count": 3,
   "metadata": {},
   "outputs": [],
   "source": [
    "from utils.time_utils import benchmark\n",
    "from utils.file_utils import check_file_exist"
   ]
  },
  {
   "cell_type": "code",
   "execution_count": 4,
   "metadata": {},
   "outputs": [],
   "source": [
    "from core.config import api_settings, app_settings, logging_settings\n",
    "from utils.logger import get_logger"
   ]
  },
  {
   "cell_type": "code",
   "execution_count": 5,
   "metadata": {},
   "outputs": [],
   "source": [
    "from utils.tmdb_utils import (\n",
    "    authenticate,\n",
    "    get_popular_tv,\n",
    "    get_request_token,\n",
    "    retrieve_token,\n",
    "    get_bad_ids,\n",
    "    append_bad_id,\n",
    "    check_bad_id,\n",
    "    generate_rand_id,\n",
    "    get_tv_episode,\n",
    ")"
   ]
  },
  {
   "cell_type": "code",
   "execution_count": 6,
   "metadata": {},
   "outputs": [],
   "source": [
    "from core.db import Base, create_base_metadata, get_engine, get_session\n",
    "from domain.schemas.tmdb import tmdb_media_schemas, tmdb_responses"
   ]
  },
  {
   "attachments": {},
   "cell_type": "markdown",
   "metadata": {},
   "source": [
    "### Dependencies\n",
    "\n",
    "Packages installed with `pip` (or some equivalent tool)"
   ]
  },
  {
   "cell_type": "code",
   "execution_count": 7,
   "metadata": {},
   "outputs": [],
   "source": [
    "import httpx"
   ]
  },
  {
   "attachments": {},
   "cell_type": "markdown",
   "metadata": {},
   "source": [
    "## Global Vars\n",
    "\n",
    "Variables for use throughout the notebook"
   ]
  },
  {
   "attachments": {},
   "cell_type": "markdown",
   "metadata": {},
   "source": [
    "### Notebook vars"
   ]
  },
  {
   "cell_type": "code",
   "execution_count": 8,
   "metadata": {},
   "outputs": [],
   "source": [
    "nb_log: bool = True\n",
    "nb_verbose: bool = False"
   ]
  },
  {
   "attachments": {},
   "cell_type": "markdown",
   "metadata": {},
   "source": [
    "### Object vars"
   ]
  },
  {
   "cell_type": "code",
   "execution_count": 9,
   "metadata": {},
   "outputs": [],
   "source": [
    "## Get a logger\n",
    "log = get_logger(__name__, level=\"INFO\")"
   ]
  },
  {
   "attachments": {},
   "cell_type": "markdown",
   "metadata": {},
   "source": [
    "#### Database object vars"
   ]
  },
  {
   "cell_type": "code",
   "execution_count": 10,
   "metadata": {},
   "outputs": [],
   "source": [
    "## Database engine/session\n",
    "engine = get_engine(connection=\"db/demo.sqlite\", echo=True)\n",
    "SessionLocal = get_session(engine=engine)"
   ]
  },
  {
   "attachments": {},
   "cell_type": "markdown",
   "metadata": {},
   "source": [
    "## Functions\n",
    "\n",
    "Notebook-level functions. These differ from functions imported from scripts in that they are either prototypes, or functions meant only for the notebook."
   ]
  },
  {
   "attachments": {},
   "cell_type": "markdown",
   "metadata": {},
   "source": [
    "### Notebook Functions"
   ]
  },
  {
   "cell_type": "code",
   "execution_count": 11,
   "metadata": {},
   "outputs": [
    {
     "name": "stdout",
     "output_type": "stream",
     "text": [
      "2023-06-19 20:54:37,698 INFO sqlalchemy.engine.Engine BEGIN (implicit)\n",
      "2023-06-19 20:54:37,699 INFO sqlalchemy.engine.Engine COMMIT\n"
     ]
    },
    {
     "data": {
      "text/plain": [
       "True"
      ]
     },
     "execution_count": 11,
     "metadata": {},
     "output_type": "execute_result"
    }
   ],
   "source": [
    "## Create database metadata early in the script\n",
    "create_base_metadata(base_obj=Base, engine=engine)"
   ]
  },
  {
   "attachments": {},
   "cell_type": "markdown",
   "metadata": {},
   "source": [
    "### Prototype"
   ]
  },
  {
   "cell_type": "code",
   "execution_count": null,
   "metadata": {},
   "outputs": [],
   "source": []
  },
  {
   "attachments": {},
   "cell_type": "markdown",
   "metadata": {},
   "source": [
    "## Classes\n",
    "\n",
    "Notebook-level classes. These differ from classes/models imported from scripts in that they are either prototypes, or functions meant only for the notebook."
   ]
  },
  {
   "attachments": {},
   "cell_type": "markdown",
   "metadata": {},
   "source": [
    "# Operations\n",
    "\n",
    "Functions & data operations."
   ]
  },
  {
   "cell_type": "code",
   "execution_count": 12,
   "metadata": {},
   "outputs": [
    {
     "name": "stdout",
     "output_type": "stream",
     "text": [
      "[INFO][2023-06-19_20:54:37][utils.tmdb_utils][authenticate ln: 36]: Requesting https://api.themoviedb.org/3/authentication\n"
     ]
    },
    {
     "data": {
      "text/plain": [
       "'Auth response: [200: OK]'"
      ]
     },
     "metadata": {},
     "output_type": "display_data"
    }
   ],
   "source": [
    "## Test authentication\n",
    "_auth = authenticate()\n",
    "display(f\"Auth response: [{_auth.status_code}: {_auth.reason_phrase}]\")"
   ]
  },
  {
   "cell_type": "code",
   "execution_count": 13,
   "metadata": {},
   "outputs": [
    {
     "name": "stdout",
     "output_type": "stream",
     "text": [
      "[INFO][2023-06-19_20:54:37][utils.tmdb_utils][get_request_token ln: 90]: Requesting https://api.themoviedb.org/3/authentication/token/new\n"
     ]
    },
    {
     "data": {
      "text/plain": [
       "'Token response: [200: OK]'"
      ]
     },
     "metadata": {},
     "output_type": "display_data"
    },
    {
     "data": {
      "text/plain": [
       "\"Token (<class 'domain.schemas.tmdb.tmdb_responses.ReqToken'>): success=True expires_at='2023-06-20 01:54:38 UTC' request_token='5121a2c3b538171adb9524f1437bb7d5700ca789'\""
      ]
     },
     "metadata": {},
     "output_type": "display_data"
    }
   ],
   "source": [
    "## Test retrieving auth token\n",
    "_token = get_request_token()\n",
    "display(f\"Token response: [{_token.status_code}: {_auth.reason_phrase}]\")\n",
    "\n",
    "## Retrieve token string from resonse\n",
    "token = retrieve_token(_token.text)\n",
    "display(f\"Token ({type(token)}): {token}\")"
   ]
  },
  {
   "attachments": {},
   "cell_type": "markdown",
   "metadata": {},
   "source": [
    "## Examples"
   ]
  },
  {
   "attachments": {},
   "cell_type": "markdown",
   "metadata": {},
   "source": [
    "### Example responses\n",
    "\n",
    "Load example responses from the TMDB API for analysis."
   ]
  },
  {
   "cell_type": "code",
   "execution_count": 14,
   "metadata": {},
   "outputs": [],
   "source": [
    "## Setup examples dir\n",
    "examples_dir: str = \"examples\"\n",
    "example_responses_dir: str = \"responses\"\n",
    "ex_res_path: str = f\"{examples_dir}/{example_responses_dir}\"\n",
    "\n",
    "if not Path(ex_res_path).exists():\n",
    "    display(f\"Creating {ex_res_path}\")\n",
    "    Path(ex_res_path).mkdir(exist_ok=True, parents=True)"
   ]
  },
  {
   "cell_type": "code",
   "execution_count": 15,
   "metadata": {},
   "outputs": [],
   "source": [
    "## Setup movie/tv example response JSON file paths\n",
    "ex_movie_res_file: str = f\"{ex_res_path}/ex_movie_response.json\"\n",
    "ex_tv_res_file: str = f\"{ex_res_path}/ex_tvshow_response.json\""
   ]
  },
  {
   "cell_type": "code",
   "execution_count": 16,
   "metadata": {},
   "outputs": [],
   "source": [
    "try:\n",
    "    with open(ex_movie_res_file, \"r+\") as movie_res_file:\n",
    "        ex_movie_res: dict = json.loads(movie_res_file.read())\n",
    "\n",
    "except Exception as exc:\n",
    "    raise Exception(\n",
    "        f\"Unhandled exception opening file '{ex_movie_res_file}'. Details: {exc}\"\n",
    "    )\n",
    "\n",
    "try:\n",
    "    with open(ex_tv_res_file, \"r+\") as tv_res_file:\n",
    "        ex_tv_res: dict = json.loads(tv_res_file.read())\n",
    "except Exception as exc:\n",
    "    raise Exception(\n",
    "        f\"Unhandled exception opening file '{ex_tv_res_file}'. Details: {exc}\"\n",
    "    )"
   ]
  },
  {
   "cell_type": "code",
   "execution_count": 17,
   "metadata": {},
   "outputs": [],
   "source": [
    "ex_movie_keys = ex_movie_res.keys()\n",
    "# display(f\"Movie dict keys:\")\n",
    "\n",
    "# for k in ex_movie_keys:\n",
    "#     display(f\"Key [{k}] ({type(ex_movie_res[k]).__name__}): {ex_movie_res[k]}\")"
   ]
  },
  {
   "cell_type": "code",
   "execution_count": 18,
   "metadata": {},
   "outputs": [],
   "source": [
    "ex_tv_keys = ex_tv_res.keys()\n",
    "# display(f\"TV dict keys:\")\n",
    "\n",
    "# for k in ex_tv_keys:"
   ]
  },
  {
   "cell_type": "code",
   "execution_count": 19,
   "metadata": {},
   "outputs": [],
   "source": [
    "shared_keys: list[str] = []\n",
    "movie_only_keys: list[str] = []\n",
    "tv_only_keys: list[str] = []"
   ]
  },
  {
   "cell_type": "code",
   "execution_count": 20,
   "metadata": {},
   "outputs": [],
   "source": [
    "## Loop over example Movie response keys\n",
    "for k in ex_movie_keys:\n",
    "    if not k in ex_tv_keys:\n",
    "        # display(f\"Movie-specific key found: {k} ({type(ex_movie_res[k]).__name__})\")\n",
    "        movie_only_keys.append(k)\n",
    "\n",
    "    else:\n",
    "        if not k in shared_keys:\n",
    "            shared_keys.append(k)"
   ]
  },
  {
   "cell_type": "code",
   "execution_count": 21,
   "metadata": {},
   "outputs": [],
   "source": [
    "## Loop over example TV Show response keys\n",
    "for k in ex_tv_keys:\n",
    "    if not k in ex_movie_keys:\n",
    "        # display(f\"TV-specific key found: {k} ({type(ex_tv_res[k]).__name__})\")\n",
    "\n",
    "        tv_only_keys.append(k)\n",
    "\n",
    "    else:\n",
    "        if not k in shared_keys:\n",
    "            shared_keys.append(k)"
   ]
  },
  {
   "cell_type": "code",
   "execution_count": 22,
   "metadata": {},
   "outputs": [
    {
     "data": {
      "text/plain": [
       "'Keys only in movie response:'"
      ]
     },
     "metadata": {},
     "output_type": "display_data"
    },
    {
     "data": {
      "text/plain": [
       "'belongs_to_collection'"
      ]
     },
     "metadata": {},
     "output_type": "display_data"
    },
    {
     "data": {
      "text/plain": [
       "'budget'"
      ]
     },
     "metadata": {},
     "output_type": "display_data"
    },
    {
     "data": {
      "text/plain": [
       "'imdb_id'"
      ]
     },
     "metadata": {},
     "output_type": "display_data"
    },
    {
     "data": {
      "text/plain": [
       "'original_title'"
      ]
     },
     "metadata": {},
     "output_type": "display_data"
    },
    {
     "data": {
      "text/plain": [
       "'release_date'"
      ]
     },
     "metadata": {},
     "output_type": "display_data"
    },
    {
     "data": {
      "text/plain": [
       "'revenue'"
      ]
     },
     "metadata": {},
     "output_type": "display_data"
    },
    {
     "data": {
      "text/plain": [
       "'runtime'"
      ]
     },
     "metadata": {},
     "output_type": "display_data"
    },
    {
     "data": {
      "text/plain": [
       "'title'"
      ]
     },
     "metadata": {},
     "output_type": "display_data"
    },
    {
     "data": {
      "text/plain": [
       "'video'"
      ]
     },
     "metadata": {},
     "output_type": "display_data"
    }
   ],
   "source": [
    "## Show keys that are specific to Movie responses\n",
    "display(f\"Keys only in movie response:\")\n",
    "\n",
    "for movie_k in movie_only_keys:\n",
    "    display(movie_k)"
   ]
  },
  {
   "cell_type": "code",
   "execution_count": 23,
   "metadata": {},
   "outputs": [
    {
     "data": {
      "text/plain": [
       "'Keys only in tv response:'"
      ]
     },
     "metadata": {},
     "output_type": "display_data"
    },
    {
     "data": {
      "text/plain": [
       "'created_by'"
      ]
     },
     "metadata": {},
     "output_type": "display_data"
    },
    {
     "data": {
      "text/plain": [
       "'episode_run_time'"
      ]
     },
     "metadata": {},
     "output_type": "display_data"
    },
    {
     "data": {
      "text/plain": [
       "'first_air_date'"
      ]
     },
     "metadata": {},
     "output_type": "display_data"
    },
    {
     "data": {
      "text/plain": [
       "'in_production'"
      ]
     },
     "metadata": {},
     "output_type": "display_data"
    },
    {
     "data": {
      "text/plain": [
       "'languages'"
      ]
     },
     "metadata": {},
     "output_type": "display_data"
    },
    {
     "data": {
      "text/plain": [
       "'last_air_date'"
      ]
     },
     "metadata": {},
     "output_type": "display_data"
    },
    {
     "data": {
      "text/plain": [
       "'last_episode_to_air'"
      ]
     },
     "metadata": {},
     "output_type": "display_data"
    },
    {
     "data": {
      "text/plain": [
       "'name'"
      ]
     },
     "metadata": {},
     "output_type": "display_data"
    },
    {
     "data": {
      "text/plain": [
       "'next_episode_to_air'"
      ]
     },
     "metadata": {},
     "output_type": "display_data"
    },
    {
     "data": {
      "text/plain": [
       "'networks'"
      ]
     },
     "metadata": {},
     "output_type": "display_data"
    },
    {
     "data": {
      "text/plain": [
       "'number_of_episodes'"
      ]
     },
     "metadata": {},
     "output_type": "display_data"
    },
    {
     "data": {
      "text/plain": [
       "'number_of_seasons'"
      ]
     },
     "metadata": {},
     "output_type": "display_data"
    },
    {
     "data": {
      "text/plain": [
       "'origin_country'"
      ]
     },
     "metadata": {},
     "output_type": "display_data"
    },
    {
     "data": {
      "text/plain": [
       "'original_name'"
      ]
     },
     "metadata": {},
     "output_type": "display_data"
    },
    {
     "data": {
      "text/plain": [
       "'seasons'"
      ]
     },
     "metadata": {},
     "output_type": "display_data"
    },
    {
     "data": {
      "text/plain": [
       "'type'"
      ]
     },
     "metadata": {},
     "output_type": "display_data"
    }
   ],
   "source": [
    "## Show keys that are specific to TV Show responses\n",
    "display(f\"Keys only in tv response:\")\n",
    "\n",
    "for tv_k in tv_only_keys:\n",
    "    display(tv_k)"
   ]
  },
  {
   "cell_type": "code",
   "execution_count": 24,
   "metadata": {},
   "outputs": [
    {
     "data": {
      "text/plain": [
       "'Keys in both movies and tv shows:'"
      ]
     },
     "metadata": {},
     "output_type": "display_data"
    },
    {
     "data": {
      "text/plain": [
       "['adult',\n",
       " 'backdrop_path',\n",
       " 'genres',\n",
       " 'homepage',\n",
       " 'id',\n",
       " 'original_language',\n",
       " 'overview',\n",
       " 'popularity',\n",
       " 'poster_path',\n",
       " 'production_companies',\n",
       " 'production_countries',\n",
       " 'spoken_languages',\n",
       " 'status',\n",
       " 'tagline',\n",
       " 'vote_average',\n",
       " 'vote_count']"
      ]
     },
     "metadata": {},
     "output_type": "display_data"
    }
   ],
   "source": [
    "## Display keys that appear in both Movie and TV Show responses\n",
    "display(f\"Keys in both movies and tv shows:\")\n",
    "\n",
    "display(shared_keys)"
   ]
  },
  {
   "attachments": {},
   "cell_type": "markdown",
   "metadata": {},
   "source": [
    "### TV Show examples"
   ]
  },
  {
   "cell_type": "code",
   "execution_count": 25,
   "metadata": {},
   "outputs": [
    {
     "name": "stdout",
     "output_type": "stream",
     "text": [
      "[INFO][2023-06-19_20:54:38][utils.tmdb_utils][get_popular_tv ln: 222]: Requesting https://api.themoviedb.org/3/tv/popular?language=en-US&page=1\n"
     ]
    },
    {
     "data": {
      "text/plain": [
       "'Retrieve popular TV shows response: [200: OK]'"
      ]
     },
     "metadata": {},
     "output_type": "display_data"
    }
   ],
   "source": [
    "## Retrieve popular TV shows\n",
    "popular_tv = get_popular_tv()\n",
    "display(\n",
    "    f\"Retrieve popular TV shows response: [{popular_tv.status_code}: {popular_tv.reason_phrase}]\"\n",
    ")"
   ]
  },
  {
   "cell_type": "code",
   "execution_count": 26,
   "metadata": {},
   "outputs": [
    {
     "data": {
      "text/plain": [
       "dict_keys(['page', 'results', 'total_pages', 'total_results'])"
      ]
     },
     "metadata": {},
     "output_type": "display_data"
    },
    {
     "data": {
      "text/plain": [
       "{'backdrop_path': '/t2rAdgjSh0WYbXzdOB5zTDqzdCI.jpg',\n",
       " 'first_air_date': '2022-11-02',\n",
       " 'genre_ids': [18],\n",
       " 'id': 213713,\n",
       " 'name': 'Faltu',\n",
       " 'origin_country': ['IN'],\n",
       " 'original_language': 'hi',\n",
       " 'original_name': 'Faltu',\n",
       " 'overview': \"What's in a name? Amidst the arid landscape of Rajasthan, a young woman with dreamy eyes struggles to prove her worth.\",\n",
       " 'popularity': 2699.206,\n",
       " 'poster_path': '/lgyFuoXs7GvKJN0mNm7z7OMOFuZ.jpg',\n",
       " 'vote_average': 4.6,\n",
       " 'vote_count': 29}"
      ]
     },
     "metadata": {},
     "output_type": "display_data"
    },
    {
     "data": {
      "text/plain": [
       "\"genre_ids (<class 'list'>)\""
      ]
     },
     "metadata": {},
     "output_type": "display_data"
    }
   ],
   "source": [
    "## Create dictionary from popular_tv response\n",
    "pop_tv_dict: dict = popular_tv.text_json()\n",
    "display(pop_tv_dict.keys())\n",
    "\n",
    "display(pop_tv_dict[\"results\"][0])\n",
    "\n",
    "display(f\"genre_ids ({type(pop_tv_dict['results'][0]['genre_ids'])})\")\n",
    "\n",
    "## Create MediaResponse class instance from pop_tv_dict\n",
    "pop_tv: tmdb_media_schemas.MediaResponse = tmdb_media_schemas.MediaResponse.parse_obj(\n",
    "    pop_tv_dict\n",
    ")\n",
    "\n",
    "# display(f\"Popular TV shows response type: ({type(pop_tv)}): {pop_tv}\")"
   ]
  },
  {
   "cell_type": "code",
   "execution_count": 27,
   "metadata": {},
   "outputs": [
    {
     "data": {
      "text/plain": [
       "\"Sample (<class 'domain.schemas.tmdb.tmdb_media_schemas.MediaTVShow'>): adult=None backdrop_path='/hR2pFXMxVihldEk5WoSrV7Yq2ra.jpg' genres=None genre_ids=[9648, 18, 10765] overview='Unravel the mystery of a nightmarish town in middle America that traps all those who enter. As the unwilling residents fight to keep a sense of normalcy and search for a way out, they must also survive the threats of the surrounding forest – including the terrifying creatures that come out when the sun goes down.' popularity=1154.703 poster_path='/pnrv8tfOcWxu4CrB8N7xK0jYJsR.jpg' tmdb_id=124364 original_language='en' vote_average=8.3 vote_count=453 homepage=None production_companies=None runtime=None created_by=None episode_run_time=None first_air_date='2022-02-20' in_production=None languages=None last_air_date=None last_episode_to_air=None next_episode_to_air=None name='From' origin_country=['US'] original_name='From' networks=None number_of_episodes=None number_of_seasons=None seasons=None type=None\""
      ]
     },
     "metadata": {},
     "output_type": "display_data"
    }
   ],
   "source": [
    "## grab a random sample TV show from popular TV shows\n",
    "pop_tv_results: int = len(pop_tv.results)\n",
    "rand_pop_tv: int = random.randint(0, pop_tv_results - 1)\n",
    "\n",
    "_sample: tmdb_media_schemas.MediaTVShow = pop_tv.results[rand_pop_tv]\n",
    "display(f\"Sample ({type(_sample)}): {_sample}\")"
   ]
  },
  {
   "cell_type": "code",
   "execution_count": 28,
   "metadata": {},
   "outputs": [
    {
     "data": {
      "text/plain": [
       "'Sample TV URL: https://api.themoviedb.org/3/tv/124364'"
      ]
     },
     "metadata": {},
     "output_type": "display_data"
    }
   ],
   "source": [
    "## Retrieve full listing from TMDB\n",
    "url = f\"{api_settings.BASE_URL}/tv/{_sample.tmdb_id}\"\n",
    "display(f\"Sample TV URL: {url}\")"
   ]
  },
  {
   "cell_type": "code",
   "execution_count": 29,
   "metadata": {},
   "outputs": [
    {
     "name": "stdout",
     "output_type": "stream",
     "text": [
      "[INFO][2023-06-19_20:54:38][utils.tmdb_utils][get_tv_episode ln: 274]: Requesting https://api.themoviedb.org/3/tv/124364\n"
     ]
    }
   ],
   "source": [
    "## Get full details of _sample TV show by doing a new TMDB lookup\n",
    "_show = get_tv_episode(tmdb_id=_sample.tmdb_id)\n",
    "_show_dict: dict = _show.text_json()\n",
    "\n",
    "tv_show: tmdb_media_schemas.MediaTVShow = tmdb_media_schemas.MediaTVShow.parse_obj(\n",
    "    _show_dict\n",
    ")"
   ]
  },
  {
   "cell_type": "code",
   "execution_count": 30,
   "metadata": {},
   "outputs": [
    {
     "data": {
      "text/plain": [
       "'Sample TV Show (MediaTVShow)'"
      ]
     },
     "metadata": {},
     "output_type": "display_data"
    },
    {
     "data": {
      "text/plain": [
       "MediaTVShow(adult=False, backdrop_path='/hR2pFXMxVihldEk5WoSrV7Yq2ra.jpg', genres=[MediaGenres(id=9648, name='Mystery'), MediaGenres(id=18, name='Drama'), MediaGenres(id=10765, name='Sci-Fi & Fantasy')], genre_ids=None, overview='Unravel the mystery of a nightmarish town in middle America that traps all those who enter. As the unwilling residents fight to keep a sense of normalcy and search for a way out, they must also survive the threats of the surrounding forest – including the terrifying creatures that come out when the sun goes down.', popularity=1154.703, poster_path='/pnrv8tfOcWxu4CrB8N7xK0jYJsR.jpg', tmdb_id=124364, original_language='en', vote_average=8.293, vote_count=458, homepage='https://www.epix.com/series/from', production_companies=[ProductionCompanies(id=106544, logo_path='/psd84iF7PTGrKf4yFOStKj8JbAh.png', name='AGBO', origin_country='US'), ProductionCompanies(id=51593, logo_path=None, name='Midnight Radio', origin_country='US'), ProductionCompanies(id=6805, logo_path='/4774MDXAu1vsapNyTv1LK3S5Ww1.png', name='Epix', origin_country='US'), ProductionCompanies(id=2230, logo_path='/8UHPNZnCf2gfHs9DrSvJMa8t7Ry.png', name='MGM Television', origin_country='US')], runtime=None, created_by=[TVShowCreator(id=2347147, credit_id='6088c7ca2da8460057c88d59', name='John Griffin', gender=2, profile_path='/lAIA3ECbx2ZtMUiOyqTbWNvKTdO.jpg')], episode_run_time=[52], first_air_date='2022-02-20', in_production=True, languages=['en'], last_air_date='2023-06-18', last_episode_to_air=MediaTVShowAiredEpisode(adult=None, backdrop_path=None, genres=None, genre_ids=None, overview='Panic spreads through town as the residents face a chilling new threat to their survival. Jim realizes the magnitude of the mistake he made by enlisting Randall in his cause.', popularity=None, poster_path=None, tmdb_id=4267669, original_language=None, vote_average=0.0, vote_count=0, homepage=None, production_companies=None, runtime=None, name='Ball of Magic Fire', air_date='2023-06-18', episode_number=9, production_code='', season_number=2, show_id=124364, still_path='/cuZj10ovQX8w5w08JevlwtNcC4v.jpg'), next_episode_to_air=MediaTVShowAiredEpisode(adult=None, backdrop_path=None, genres=None, genre_ids=None, overview='Boyd fears he may have finally run out of answers, as the residents of town prepare for the end. Tabitha clings to the belief that the children could be the key to their salvation.', popularity=None, poster_path=None, tmdb_id=4267670, original_language=None, vote_average=0.0, vote_count=0, homepage=None, production_companies=None, runtime=None, name='Once Upon a Time…', air_date='2023-06-25', episode_number=10, production_code='', season_number=2, show_id=124364, still_path='/3d7vWOnFRWG9pObG4KxueABjeyV.jpg'), name='From', origin_country=['US'], original_name='From', networks=[MediaTVShowNetwork(tmdb_id=922, logo_path='/9aH86hGHVQfvhAqrDRv1EINoxua.png', name='Epix', origin_country='US'), MediaTVShowNetwork(tmdb_id=6219, logo_path='/89TXvQzvoKvyqD9EEogohzMJ8D6.png', name='MGM+', origin_country='US')], number_of_episodes=20, number_of_seasons=2, seasons=[MediaTVShowSeason(adult=None, backdrop_path=None, genres=None, genre_ids=None, overview='', popularity=None, poster_path='/h2XVccFQMQSBb6ZhyXOHMtAwrMP.jpg', tmdb_id=192632, original_language=None, vote_average=None, vote_count=None, homepage=None, production_companies=None, runtime=None, air_date='2022-02-20', episode_count=10, name='Season 1', season_number=1), MediaTVShowSeason(adult=None, backdrop_path=None, genres=None, genre_ids=None, overview='', popularity=None, poster_path='/pnrv8tfOcWxu4CrB8N7xK0jYJsR.jpg', tmdb_id=323757, original_language=None, vote_average=None, vote_count=None, homepage=None, production_companies=None, runtime=None, air_date='2023-04-23', episode_count=10, name='Season 2', season_number=2)], type='Scripted')"
      ]
     },
     "metadata": {},
     "output_type": "display_data"
    }
   ],
   "source": [
    "## Show sample TV show\n",
    "display(f\"Sample TV Show ({type(tv_show).__name__})\")\n",
    "\n",
    "display(tv_show)"
   ]
  },
  {
   "attachments": {},
   "cell_type": "markdown",
   "metadata": {},
   "source": [
    "### Random movie"
   ]
  },
  {
   "cell_type": "code",
   "execution_count": 31,
   "metadata": {},
   "outputs": [
    {
     "data": {
      "text/plain": [
       "'Random movie ID: 168'"
      ]
     },
     "metadata": {},
     "output_type": "display_data"
    }
   ],
   "source": [
    "## Lookup a movie using a randomly generated ID.\n",
    "#  If ID is invalid, it will be added to the bad_movie_ids file\n",
    "movie_objs: list[tmdb_media_schemas.MediaMovie] = []\n",
    "rand_movie = generate_rand_id(type=\"movie\")\n",
    "\n",
    "display(f\"Random movie ID: {rand_movie}\")"
   ]
  },
  {
   "cell_type": "code",
   "execution_count": 32,
   "metadata": {},
   "outputs": [
    {
     "data": {
      "text/plain": [
       "'URL: https://api.themoviedb.org/3/movie/168?language=en-US'"
      ]
     },
     "metadata": {},
     "output_type": "display_data"
    }
   ],
   "source": [
    "url = f\"https://api.themoviedb.org/3/movie/{rand_movie}?language=en-US\"\n",
    "display(f\"URL: {url}\")"
   ]
  },
  {
   "cell_type": "code",
   "execution_count": 33,
   "metadata": {},
   "outputs": [
    {
     "data": {
      "text/plain": [
       "'Movie: adult=False backdrop_path=\\'/wN3dgwkiWSLrMVukPQIeccv5EJ6.jpg\\' genres=[MediaGenres(id=878, name=\\'Science Fiction\\'), MediaGenres(id=12, name=\\'Adventure\\')] genre_ids=None overview=\"It\\'s the 23rd century, and a mysterious alien power is threatening Earth by evaporating the oceans and destroying the atmosphere. In a frantic attempt to save mankind, Kirk and his crew must time travel back to 1986 San Francisco where they find a world of punk, pizza and exact-change buses that are as alien as anything they\\'ve ever encountered in the far reaches of the galaxy. A thrilling, action-packed Star Trek adventure!\" popularity=28.032 poster_path=\\'/xY5TzGXJOB3L9rhZ1MbbPyVlW5J.jpg\\' tmdb_id=168 original_language=\\'en\\' vote_average=7.189 vote_count=1285 homepage=\\'https://www.paramountmovies.com/movies/star-trek-iv-the-voyage-home\\' production_companies=[ProductionCompanies(id=4, logo_path=\\'/gz66EfNoYPqHTYI4q9UEN4CbHRc.png\\', name=\\'Paramount\\', origin_country=\\'US\\')] runtime=119 belongs_to_collection=MovieCollection(id=151, name=\\'Star Trek: The Original Series Collection\\', poster_path=\\'/vNrbrsHOpXS3whk9DLuBNcjJy1s.jpg\\', backdrop_path=\\'/9BQj9hq0aK6yM9Tm2NJ28jg572y.jpg\\') budget=24000000 imdb_id=\\'tt0092007\\' original_title=\\'Star Trek IV: The Voyage Home\\' release_date=\\'1986-11-26\\' revenue=133000000 title=\\'Star Trek IV: The Voyage Home\\' video=False'"
      ]
     },
     "metadata": {},
     "output_type": "display_data"
    }
   ],
   "source": [
    "## Get random movie\n",
    "try:\n",
    "    with httpx.Client(headers=basic_auth_headers) as client:\n",
    "        res = client.get(url)\n",
    "\n",
    "        if not res.status_code == 200:\n",
    "            display(\n",
    "                f\"Non-200 response returned: [{res.status_code}: {res.reason_phrase}]: {res.text}\"\n",
    "            )\n",
    "\n",
    "            display(f\"Adding ID {rand_movie} to list of known bad IDs\")\n",
    "\n",
    "            append_bad_id(bad_id=rand_movie, bad_id_file=\"bad_movie_ids\")\n",
    "\n",
    "        results: tmdb_responses.ReqResponse = tmdb_responses.ReqResponse.parse_obj(\n",
    "            res.__dict__\n",
    "        )\n",
    "\n",
    "        res_json: dict = json.loads(res.text)\n",
    "\n",
    "        _movie: tmdb_media_schemas.MediaMovie = tmdb_media_schemas.MediaMovie.parse_obj(\n",
    "            res_json\n",
    "        )\n",
    "\n",
    "        display(f\"Movie: {_movie}\")\n",
    "\n",
    "        movie_objs.append(_movie)\n",
    "\n",
    "except Exception as exc:\n",
    "    raise Exception(\n",
    "        f\"Unhandled exception requesting movie with ID: {rand_movie}. Details: {exc}\"\n",
    "    )"
   ]
  },
  {
   "cell_type": "code",
   "execution_count": 34,
   "metadata": {},
   "outputs": [
    {
     "data": {
      "text/plain": [
       "[MediaMovie(adult=False, backdrop_path='/wN3dgwkiWSLrMVukPQIeccv5EJ6.jpg', genres=[MediaGenres(id=878, name='Science Fiction'), MediaGenres(id=12, name='Adventure')], genre_ids=None, overview=\"It's the 23rd century, and a mysterious alien power is threatening Earth by evaporating the oceans and destroying the atmosphere. In a frantic attempt to save mankind, Kirk and his crew must time travel back to 1986 San Francisco where they find a world of punk, pizza and exact-change buses that are as alien as anything they've ever encountered in the far reaches of the galaxy. A thrilling, action-packed Star Trek adventure!\", popularity=28.032, poster_path='/xY5TzGXJOB3L9rhZ1MbbPyVlW5J.jpg', tmdb_id=168, original_language='en', vote_average=7.189, vote_count=1285, homepage='https://www.paramountmovies.com/movies/star-trek-iv-the-voyage-home', production_companies=[ProductionCompanies(id=4, logo_path='/gz66EfNoYPqHTYI4q9UEN4CbHRc.png', name='Paramount', origin_country='US')], runtime=119, belongs_to_collection=MovieCollection(id=151, name='Star Trek: The Original Series Collection', poster_path='/vNrbrsHOpXS3whk9DLuBNcjJy1s.jpg', backdrop_path='/9BQj9hq0aK6yM9Tm2NJ28jg572y.jpg'), budget=24000000, imdb_id='tt0092007', original_title='Star Trek IV: The Voyage Home', release_date='1986-11-26', revenue=133000000, title='Star Trek IV: The Voyage Home', video=False)]"
      ]
     },
     "metadata": {},
     "output_type": "display_data"
    }
   ],
   "source": [
    "display(movie_objs)"
   ]
  }
 ],
 "metadata": {
  "kernelspec": {
   "display_name": ".venv",
   "language": "python",
   "name": "python3"
  },
  "language_info": {
   "codemirror_mode": {
    "name": "ipython",
    "version": 3
   },
   "file_extension": ".py",
   "mimetype": "text/x-python",
   "name": "python",
   "nbconvert_exporter": "python",
   "pygments_lexer": "ipython3",
   "version": "3.10.0"
  },
  "orig_nbformat": 4
 },
 "nbformat": 4,
 "nbformat_minor": 2
}
