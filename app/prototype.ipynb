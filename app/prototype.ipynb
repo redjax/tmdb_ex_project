{
 "cells": [
  {
   "attachments": {},
   "cell_type": "markdown",
   "metadata": {},
   "source": [
    "# Prototype\n",
    "[*v0.1*]\n",
    "\n",
    "Prototyping with TMDB."
   ]
  },
  {
   "attachments": {},
   "cell_type": "markdown",
   "metadata": {},
   "source": [
    "# Setup\n",
    "\n",
    "Cells in this section handle notebook setup, like importing packages and functions/vars from scripts."
   ]
  },
  {
   "attachments": {},
   "cell_type": "markdown",
   "metadata": {},
   "source": [
    "## Imports\n",
    "\n",
    "Import `stdlib` packages (i.e. `pathlib.Path`) and package dependencies."
   ]
  },
  {
   "attachments": {},
   "cell_type": "markdown",
   "metadata": {},
   "source": [
    "### stdlib"
   ]
  },
  {
   "cell_type": "code",
   "execution_count": 1,
   "metadata": {},
   "outputs": [],
   "source": [
    "from pathlib import Path\n",
    "import json\n",
    "from typing import Any, Optional, Union\n",
    "import random"
   ]
  },
  {
   "attachments": {},
   "cell_type": "markdown",
   "metadata": {},
   "source": [
    "### Custom modules & vars"
   ]
  },
  {
   "cell_type": "code",
   "execution_count": 2,
   "metadata": {},
   "outputs": [],
   "source": [
    "## Constants\n",
    "from lib.constants import (\n",
    "    auth_endpoint,\n",
    "    movie_endpoint,\n",
    "    token_endpoint,\n",
    "    api_key,\n",
    "    base_url,\n",
    "    tv_endpoint,\n",
    "    session_endpoint,\n",
    "    popular_tv_endpoint,\n",
    "    basic_auth_headers,\n",
    ")"
   ]
  },
  {
   "cell_type": "code",
   "execution_count": 3,
   "metadata": {},
   "outputs": [],
   "source": [
    "from utils.time_utils import benchmark\n",
    "from utils.file_utils import check_file_exist"
   ]
  },
  {
   "cell_type": "code",
   "execution_count": 4,
   "metadata": {},
   "outputs": [],
   "source": [
    "from core.config import api_settings, app_settings, logging_settings\n",
    "from utils.logger import get_logger"
   ]
  },
  {
   "cell_type": "code",
   "execution_count": 5,
   "metadata": {},
   "outputs": [],
   "source": [
    "from utils.tmdb_utils import (\n",
    "    authenticate,\n",
    "    get_popular_tv,\n",
    "    get_request_token,\n",
    "    retrieve_token,\n",
    "    get_bad_ids,\n",
    "    append_bad_id,\n",
    "    check_bad_id,\n",
    "    generate_rand_id,\n",
    "    get_tv_episode,\n",
    ")"
   ]
  },
  {
   "cell_type": "code",
   "execution_count": 6,
   "metadata": {},
   "outputs": [],
   "source": [
    "from core.db import Base, create_base_metadata, get_engine, get_session\n",
    "from domain.schemas.tmdb import tmdb_media_schemas, tmdb_responses"
   ]
  },
  {
   "attachments": {},
   "cell_type": "markdown",
   "metadata": {},
   "source": [
    "### Dependencies\n",
    "\n",
    "Packages installed with `pip` (or some equivalent tool)"
   ]
  },
  {
   "cell_type": "code",
   "execution_count": 7,
   "metadata": {},
   "outputs": [],
   "source": [
    "import httpx"
   ]
  },
  {
   "attachments": {},
   "cell_type": "markdown",
   "metadata": {},
   "source": [
    "## Global Vars\n",
    "\n",
    "Variables for use throughout the notebook"
   ]
  },
  {
   "cell_type": "code",
   "execution_count": 8,
   "metadata": {},
   "outputs": [],
   "source": [
    "nb_log: bool = True\n",
    "nb_verbose: bool = False"
   ]
  },
  {
   "cell_type": "code",
   "execution_count": 9,
   "metadata": {},
   "outputs": [],
   "source": [
    "log = get_logger(__name__, level=\"INFO\")"
   ]
  },
  {
   "cell_type": "code",
   "execution_count": 10,
   "metadata": {},
   "outputs": [
    {
     "name": "stdout",
     "output_type": "stream",
     "text": [
      "2023-06-19 17:32:46,901 INFO sqlalchemy.engine.Engine BEGIN (implicit)\n",
      "2023-06-19 17:32:46,902 INFO sqlalchemy.engine.Engine COMMIT\n"
     ]
    },
    {
     "data": {
      "text/plain": [
       "True"
      ]
     },
     "execution_count": 10,
     "metadata": {},
     "output_type": "execute_result"
    }
   ],
   "source": [
    "engine = get_engine(connection=\"db/demo.sqlite\", echo=True)\n",
    "SessionLocal = get_session(engine=engine)\n",
    "create_base_metadata(base_obj=Base, engine=engine)"
   ]
  },
  {
   "attachments": {},
   "cell_type": "markdown",
   "metadata": {},
   "source": [
    "## Functions\n",
    "\n",
    "Notebook-level functions. These differ from functions imported from scripts in that they are either prototypes, or functions meant only for the notebook."
   ]
  },
  {
   "attachments": {},
   "cell_type": "markdown",
   "metadata": {},
   "source": [
    "### Notebook Functions"
   ]
  },
  {
   "cell_type": "code",
   "execution_count": null,
   "metadata": {},
   "outputs": [],
   "source": []
  },
  {
   "attachments": {},
   "cell_type": "markdown",
   "metadata": {},
   "source": [
    "### Prototype"
   ]
  },
  {
   "cell_type": "code",
   "execution_count": null,
   "metadata": {},
   "outputs": [],
   "source": []
  },
  {
   "attachments": {},
   "cell_type": "markdown",
   "metadata": {},
   "source": [
    "## Classes\n",
    "\n",
    "Notebook-level classes. These differ from classes/models imported from scripts in that they are either prototypes, or functions meant only for the notebook."
   ]
  },
  {
   "attachments": {},
   "cell_type": "markdown",
   "metadata": {},
   "source": [
    "# Operations\n",
    "\n",
    "Functions & data operations."
   ]
  },
  {
   "cell_type": "code",
   "execution_count": 11,
   "metadata": {},
   "outputs": [
    {
     "name": "stdout",
     "output_type": "stream",
     "text": [
      "[INFO][2023-06-19_17:32:46][utils.tmdb_utils][authenticate ln: 37]: Requesting https://api.themoviedb.org/3/authentication\n"
     ]
    },
    {
     "data": {
      "text/plain": [
       "'Auth response: [200: OK]'"
      ]
     },
     "metadata": {},
     "output_type": "display_data"
    }
   ],
   "source": [
    "## Test authentication\n",
    "_auth = authenticate()\n",
    "display(f\"Auth response: [{_auth.status_code}: {_auth.reason_phrase}]\")"
   ]
  },
  {
   "cell_type": "code",
   "execution_count": 12,
   "metadata": {},
   "outputs": [
    {
     "name": "stdout",
     "output_type": "stream",
     "text": [
      "[INFO][2023-06-19_17:32:47][utils.tmdb_utils][get_request_token ln: 91]: Requesting https://api.themoviedb.org/3/authentication/token/new\n"
     ]
    },
    {
     "data": {
      "text/plain": [
       "'Token response: [200: OK]'"
      ]
     },
     "metadata": {},
     "output_type": "display_data"
    },
    {
     "data": {
      "text/plain": [
       "\"Token (<class 'domain.schemas.tmdb.tmdb_responses.ReqToken'>): success=True expires_at='2023-06-19 22:32:47 UTC' request_token='b6e6f8d4164ffcab82f99c5b30b31bd9875c0cba'\""
      ]
     },
     "metadata": {},
     "output_type": "display_data"
    }
   ],
   "source": [
    "## Test retrieving auth token\n",
    "_token = get_request_token()\n",
    "display(f\"Token response: [{_token.status_code}: {_auth.reason_phrase}]\")\n",
    "\n",
    "## Retrieve token string from resonse\n",
    "token = retrieve_token(_token.text)\n",
    "display(f\"Token ({type(token)}): {token}\")"
   ]
  },
  {
   "attachments": {},
   "cell_type": "markdown",
   "metadata": {},
   "source": [
    "## Examples"
   ]
  },
  {
   "attachments": {},
   "cell_type": "markdown",
   "metadata": {},
   "source": [
    "### Example responses"
   ]
  },
  {
   "cell_type": "code",
   "execution_count": 13,
   "metadata": {},
   "outputs": [],
   "source": [
    "examples_dir: str = \"examples\"\n",
    "example_responses_dir: str = \"responses\"\n",
    "ex_res_path: str = f\"{examples_dir}/{example_responses_dir}\"\n",
    "\n",
    "if not Path(ex_res_path).exists():\n",
    "    Path(ex_res_path).mkdir(exist_ok=True, parents=True)"
   ]
  },
  {
   "cell_type": "code",
   "execution_count": 14,
   "metadata": {},
   "outputs": [],
   "source": [
    "ex_movie_res_file: str = f\"{ex_res_path}/ex_movie_response.json\"\n",
    "ex_tv_res_file: str = f\"{ex_res_path}/ex_tvshow_response.json\""
   ]
  },
  {
   "cell_type": "code",
   "execution_count": 15,
   "metadata": {},
   "outputs": [],
   "source": [
    "with open(ex_movie_res_file, \"r+\") as movie_res_file:\n",
    "    ex_movie_res: dict = json.loads(movie_res_file.read())\n",
    "\n",
    "with open(ex_tv_res_file, \"r+\") as tv_res_file:\n",
    "    ex_tv_res: dict = json.loads(tv_res_file.read())"
   ]
  },
  {
   "cell_type": "code",
   "execution_count": 16,
   "metadata": {},
   "outputs": [],
   "source": [
    "ex_movie_keys = ex_movie_res.keys()\n",
    "# display(f\"Movie dict keys:\")\n",
    "\n",
    "# for k in ex_movie_keys:\n",
    "#     display(f\"Key [{k}] ({type(ex_movie_res[k]).__name__}): {ex_movie_res[k]}\")"
   ]
  },
  {
   "cell_type": "code",
   "execution_count": 17,
   "metadata": {},
   "outputs": [],
   "source": [
    "ex_tv_keys = ex_tv_res.keys()\n",
    "# display(f\"TV dict keys:\")\n",
    "\n",
    "# for k in ex_tv_keys:"
   ]
  },
  {
   "cell_type": "code",
   "execution_count": 18,
   "metadata": {},
   "outputs": [],
   "source": [
    "shared_keys: list[str] = []\n",
    "movie_only_keys: list[str] = []\n",
    "tv_only_keys: list[str] = []"
   ]
  },
  {
   "cell_type": "code",
   "execution_count": 19,
   "metadata": {},
   "outputs": [],
   "source": [
    "for k in ex_movie_keys:\n",
    "    if not k in ex_tv_keys:\n",
    "        # display(f\"Movie-specific key found: {k} ({type(ex_movie_res[k]).__name__})\")\n",
    "        movie_only_keys.append(k)\n",
    "\n",
    "    else:\n",
    "        if not k in shared_keys:\n",
    "            shared_keys.append(k)"
   ]
  },
  {
   "cell_type": "code",
   "execution_count": 20,
   "metadata": {},
   "outputs": [],
   "source": [
    "for k in ex_tv_keys:\n",
    "    if not k in ex_movie_keys:\n",
    "        # display(f\"TV-specific key found: {k} ({type(ex_tv_res[k]).__name__})\")\n",
    "\n",
    "        tv_only_keys.append(k)\n",
    "\n",
    "    else:\n",
    "        if not k in shared_keys:\n",
    "            shared_keys.append(k)"
   ]
  },
  {
   "cell_type": "code",
   "execution_count": 21,
   "metadata": {},
   "outputs": [
    {
     "data": {
      "text/plain": [
       "'Keys only in movie response:'"
      ]
     },
     "metadata": {},
     "output_type": "display_data"
    },
    {
     "data": {
      "text/plain": [
       "'belongs_to_collection'"
      ]
     },
     "metadata": {},
     "output_type": "display_data"
    },
    {
     "data": {
      "text/plain": [
       "'budget'"
      ]
     },
     "metadata": {},
     "output_type": "display_data"
    },
    {
     "data": {
      "text/plain": [
       "'imdb_id'"
      ]
     },
     "metadata": {},
     "output_type": "display_data"
    },
    {
     "data": {
      "text/plain": [
       "'original_title'"
      ]
     },
     "metadata": {},
     "output_type": "display_data"
    },
    {
     "data": {
      "text/plain": [
       "'release_date'"
      ]
     },
     "metadata": {},
     "output_type": "display_data"
    },
    {
     "data": {
      "text/plain": [
       "'revenue'"
      ]
     },
     "metadata": {},
     "output_type": "display_data"
    },
    {
     "data": {
      "text/plain": [
       "'runtime'"
      ]
     },
     "metadata": {},
     "output_type": "display_data"
    },
    {
     "data": {
      "text/plain": [
       "'title'"
      ]
     },
     "metadata": {},
     "output_type": "display_data"
    },
    {
     "data": {
      "text/plain": [
       "'video'"
      ]
     },
     "metadata": {},
     "output_type": "display_data"
    }
   ],
   "source": [
    "display(f\"Keys only in movie response:\")\n",
    "\n",
    "for movie_k in movie_only_keys:\n",
    "    display(movie_k)"
   ]
  },
  {
   "cell_type": "code",
   "execution_count": 22,
   "metadata": {},
   "outputs": [
    {
     "data": {
      "text/plain": [
       "'Keys only in tv response:'"
      ]
     },
     "metadata": {},
     "output_type": "display_data"
    },
    {
     "data": {
      "text/plain": [
       "'created_by'"
      ]
     },
     "metadata": {},
     "output_type": "display_data"
    },
    {
     "data": {
      "text/plain": [
       "'episode_run_time'"
      ]
     },
     "metadata": {},
     "output_type": "display_data"
    },
    {
     "data": {
      "text/plain": [
       "'first_air_date'"
      ]
     },
     "metadata": {},
     "output_type": "display_data"
    },
    {
     "data": {
      "text/plain": [
       "'in_production'"
      ]
     },
     "metadata": {},
     "output_type": "display_data"
    },
    {
     "data": {
      "text/plain": [
       "'languages'"
      ]
     },
     "metadata": {},
     "output_type": "display_data"
    },
    {
     "data": {
      "text/plain": [
       "'last_air_date'"
      ]
     },
     "metadata": {},
     "output_type": "display_data"
    },
    {
     "data": {
      "text/plain": [
       "'last_episode_to_air'"
      ]
     },
     "metadata": {},
     "output_type": "display_data"
    },
    {
     "data": {
      "text/plain": [
       "'name'"
      ]
     },
     "metadata": {},
     "output_type": "display_data"
    },
    {
     "data": {
      "text/plain": [
       "'next_episode_to_air'"
      ]
     },
     "metadata": {},
     "output_type": "display_data"
    },
    {
     "data": {
      "text/plain": [
       "'networks'"
      ]
     },
     "metadata": {},
     "output_type": "display_data"
    },
    {
     "data": {
      "text/plain": [
       "'number_of_episodes'"
      ]
     },
     "metadata": {},
     "output_type": "display_data"
    },
    {
     "data": {
      "text/plain": [
       "'number_of_seasons'"
      ]
     },
     "metadata": {},
     "output_type": "display_data"
    },
    {
     "data": {
      "text/plain": [
       "'origin_country'"
      ]
     },
     "metadata": {},
     "output_type": "display_data"
    },
    {
     "data": {
      "text/plain": [
       "'original_name'"
      ]
     },
     "metadata": {},
     "output_type": "display_data"
    },
    {
     "data": {
      "text/plain": [
       "'seasons'"
      ]
     },
     "metadata": {},
     "output_type": "display_data"
    },
    {
     "data": {
      "text/plain": [
       "'type'"
      ]
     },
     "metadata": {},
     "output_type": "display_data"
    }
   ],
   "source": [
    "display(f\"Keys only in tv response:\")\n",
    "\n",
    "for tv_k in tv_only_keys:\n",
    "    display(tv_k)"
   ]
  },
  {
   "cell_type": "code",
   "execution_count": 23,
   "metadata": {},
   "outputs": [
    {
     "data": {
      "text/plain": [
       "'Keys in both movies and tv shows:'"
      ]
     },
     "metadata": {},
     "output_type": "display_data"
    },
    {
     "data": {
      "text/plain": [
       "['adult',\n",
       " 'backdrop_path',\n",
       " 'genres',\n",
       " 'homepage',\n",
       " 'id',\n",
       " 'original_language',\n",
       " 'overview',\n",
       " 'popularity',\n",
       " 'poster_path',\n",
       " 'production_companies',\n",
       " 'production_countries',\n",
       " 'spoken_languages',\n",
       " 'status',\n",
       " 'tagline',\n",
       " 'vote_average',\n",
       " 'vote_count']"
      ]
     },
     "metadata": {},
     "output_type": "display_data"
    }
   ],
   "source": [
    "display(f\"Keys in both movies and tv shows:\")\n",
    "\n",
    "display(shared_keys)"
   ]
  },
  {
   "attachments": {},
   "cell_type": "markdown",
   "metadata": {},
   "source": [
    "### TV Show examples"
   ]
  },
  {
   "cell_type": "code",
   "execution_count": 24,
   "metadata": {},
   "outputs": [
    {
     "name": "stdout",
     "output_type": "stream",
     "text": [
      "[INFO][2023-06-19_17:32:47][utils.tmdb_utils][get_popular_tv ln: 223]: Requesting https://api.themoviedb.org/3/tv/popular?language=en-US&page=1\n"
     ]
    },
    {
     "data": {
      "text/plain": [
       "'Retrieve popular TV shows response: [200: OK]'"
      ]
     },
     "metadata": {},
     "output_type": "display_data"
    }
   ],
   "source": [
    "## Retrieve popular TV shows\n",
    "popular_tv = get_popular_tv()\n",
    "display(\n",
    "    f\"Retrieve popular TV shows response: [{popular_tv.status_code}: {popular_tv.reason_phrase}]\"\n",
    ")"
   ]
  },
  {
   "cell_type": "code",
   "execution_count": 25,
   "metadata": {},
   "outputs": [
    {
     "data": {
      "text/plain": [
       "dict_keys(['page', 'results', 'total_pages', 'total_results'])"
      ]
     },
     "metadata": {},
     "output_type": "display_data"
    },
    {
     "data": {
      "text/plain": [
       "{'backdrop_path': '/t2rAdgjSh0WYbXzdOB5zTDqzdCI.jpg',\n",
       " 'first_air_date': '2022-11-02',\n",
       " 'genre_ids': [18],\n",
       " 'id': 213713,\n",
       " 'name': 'Faltu',\n",
       " 'origin_country': ['IN'],\n",
       " 'original_language': 'hi',\n",
       " 'original_name': 'Faltu',\n",
       " 'overview': \"What's in a name? Amidst the arid landscape of Rajasthan, a young woman with dreamy eyes struggles to prove her worth.\",\n",
       " 'popularity': 2699.206,\n",
       " 'poster_path': '/lgyFuoXs7GvKJN0mNm7z7OMOFuZ.jpg',\n",
       " 'vote_average': 4.6,\n",
       " 'vote_count': 29}"
      ]
     },
     "metadata": {},
     "output_type": "display_data"
    },
    {
     "data": {
      "text/plain": [
       "\"genre_ids (<class 'list'>)\""
      ]
     },
     "metadata": {},
     "output_type": "display_data"
    }
   ],
   "source": [
    "## Create dictionary from popular_tv response\n",
    "pop_tv_dict: dict = popular_tv.text_json()\n",
    "display(pop_tv_dict.keys())\n",
    "\n",
    "display(pop_tv_dict[\"results\"][0])\n",
    "\n",
    "display(f\"genre_ids ({type(pop_tv_dict['results'][0]['genre_ids'])})\")\n",
    "\n",
    "## Create MediaResponse class instance from pop_tv_dict\n",
    "pop_tv: tmdb_media_schemas.MediaResponse = tmdb_media_schemas.MediaResponse.parse_obj(\n",
    "    pop_tv_dict\n",
    ")\n",
    "\n",
    "# display(f\"Popular TV shows response type: ({type(pop_tv)}): {pop_tv}\")"
   ]
  },
  {
   "cell_type": "code",
   "execution_count": 26,
   "metadata": {},
   "outputs": [
    {
     "data": {
      "text/plain": [
       "'Sample (<class \\'domain.schemas.tmdb.tmdb_media_schemas.MediaTVShow\\'>): adult=None backdrop_path=\\'/jJy6BwcEYphxGn0SGB30l98Jvje.jpg\\' genres=None genre_ids=[10764] overview=\"MasterChef Australia is a Logie Award-winning Australian competitive cooking game show based on the original British MasterChef. It is produced by Shine Australia and screens on Network Ten. Restaurateur and chef Gary Mehigan, chef George Calombaris and food critic Matt Preston serve as the show\\'s main judges. Journalist Sarah Wilson hosted the first series, however her role was dropped at the end of the series.\" popularity=1444.701 poster_path=\\'/m5akdtbWznF8KpOewKyKw0C36s1.jpg\\' tmdb_id=16395 original_language=\\'en\\' vote_average=7.0 vote_count=64 homepage=None production_companies=None runtime=None created_by=None episode_run_time=None first_air_date=\\'2009-04-27\\' in_production=None languages=None last_air_date=None last_episode_to_air=None next_episode_to_air=None name=\\'MasterChef Australia\\' origin_country=[\\'AU\\'] original_name=\\'MasterChef Australia\\' networks=None number_of_episodes=None number_of_seasons=None seasons=None type=None'"
      ]
     },
     "metadata": {},
     "output_type": "display_data"
    }
   ],
   "source": [
    "## grab a random sample TV show from popular TV shows\n",
    "pop_tv_results: int = len(pop_tv.results)\n",
    "rand_pop_tv: int = random.randint(0, pop_tv_results - 1)\n",
    "\n",
    "_sample: tmdb_media_schemas.MediaTVShow = pop_tv.results[rand_pop_tv]\n",
    "display(f\"Sample ({type(_sample)}): {_sample}\")"
   ]
  },
  {
   "cell_type": "code",
   "execution_count": 27,
   "metadata": {},
   "outputs": [
    {
     "data": {
      "text/plain": [
       "'Sample TV URL: https://api.themoviedb.org/3/tv/16395'"
      ]
     },
     "metadata": {},
     "output_type": "display_data"
    }
   ],
   "source": [
    "## Retrieve full listing from TMDB\n",
    "url = f\"{api_settings.BASE_URL}/tv/{_sample.tmdb_id}\"\n",
    "display(f\"Sample TV URL: {url}\")"
   ]
  },
  {
   "cell_type": "code",
   "execution_count": 28,
   "metadata": {},
   "outputs": [
    {
     "name": "stdout",
     "output_type": "stream",
     "text": [
      "[INFO][2023-06-19_17:32:47][utils.tmdb_utils][get_tv_episode ln: 275]: Requesting https://api.themoviedb.org/3/tv/16395\n"
     ]
    }
   ],
   "source": [
    "_show = get_tv_episode(tmdb_id=_sample.tmdb_id)\n",
    "_show_dict: dict = _show.text_json()\n",
    "\n",
    "tv_show: tmdb_media_schemas.MediaTVShow = tmdb_media_schemas.MediaTVShow.parse_obj(\n",
    "    _show_dict\n",
    ")"
   ]
  },
  {
   "cell_type": "code",
   "execution_count": 29,
   "metadata": {},
   "outputs": [
    {
     "data": {
      "text/plain": [
       "'Sample TV Show (MediaTVShow)'"
      ]
     },
     "metadata": {},
     "output_type": "display_data"
    },
    {
     "data": {
      "text/plain": [
       "MediaTVShow(adult=False, backdrop_path='/t8dpSMqwCu6hTxFE85lZyc5l52o.jpg', genres=[MediaGenres(id=10764, name='Reality')], genre_ids=None, overview=\"MasterChef Australia is a Logie Award-winning Australian competitive cooking game show based on the original British MasterChef. It is produced by Shine Australia and screens on Network Ten. Restaurateur and chef Gary Mehigan, chef George Calombaris and food critic Matt Preston serve as the show's main judges. Journalist Sarah Wilson hosted the first series, however her role was dropped at the end of the series.\", popularity=1444.701, poster_path='/m5akdtbWznF8KpOewKyKw0C36s1.jpg', tmdb_id=16395, original_language='en', vote_average=6.908, vote_count=65, homepage='https://10play.com.au/masterchef', production_companies=[ProductionCompanies(id=24645, logo_path='/9XMHkEXi5H6w5b1NOLEgo7tLK5F.png', name='EndemolShine Australia', origin_country='AU')], runtime=None, created_by=[TVShowCreator(id=65304, credit_id='52584e33760ee34661021c20', name='Franc Roddam', gender=2, profile_path=None)], episode_run_time=[75], first_air_date='2009-04-27', in_production=True, languages=['en'], last_air_date='2023-06-18', last_episode_to_air=MediaTVShowAiredEpisode(adult=None, backdrop_path=None, genres=None, genre_ids=None, overview=\"Australia's most beloved food icon, Maggie Beer, is in the kitchen to spread the joy and inspire a full field of black apron contestants as they compete in a two-round Elimination Challenge.\", popularity=None, poster_path=None, tmdb_id=4523291, original_language=None, vote_average=0.0, vote_count=0, homepage=None, production_companies=None, runtime=None, name='Episode 30', air_date='2023-06-18', episode_number=30, production_code='', season_number=15, show_id=16395, still_path=None), next_episode_to_air=MediaTVShowAiredEpisode(adult=None, backdrop_path=None, genres=None, genre_ids=None, overview=\"A Mystery Box Challenge allows our top nine to turn the tables on Jock, Andy and Melissa. It's what's inside that counts as our home cooks try to surprise the judges.\", popularity=None, poster_path=None, tmdb_id=4523292, original_language=None, vote_average=0.0, vote_count=0, homepage=None, production_companies=None, runtime=None, name='Episode 31', air_date='2023-06-19', episode_number=31, production_code='', season_number=15, show_id=16395, still_path=None), name='MasterChef Australia', origin_country=['AU'], original_name='MasterChef Australia', networks=[MediaTVShowNetwork(tmdb_id=38, logo_path='/gHAm9zYjSX8IAJWuy2s4Du6onuo.png', name='Network Ten', origin_country='AU')], number_of_episodes=970, number_of_seasons=15, seasons=[MediaTVShowSeason(adult=None, backdrop_path=None, genres=None, genre_ids=None, overview='', popularity=None, poster_path=None, tmdb_id=178894, original_language=None, vote_average=None, vote_count=None, homepage=None, production_companies=None, runtime=None, air_date='2012-05-09', episode_count=3, name='Specials', season_number=0), MediaTVShowSeason(adult=None, backdrop_path=None, genres=None, genre_ids=None, overview='', popularity=None, poster_path='/tMfMH0bWRe37oYuZC3uRAuNzl7d.jpg', tmdb_id=66987, original_language=None, vote_average=None, vote_count=None, homepage=None, production_companies=None, runtime=None, air_date='2009-04-27', episode_count=72, name='Season 1', season_number=1), MediaTVShowSeason(adult=None, backdrop_path=None, genres=None, genre_ids=None, overview='', popularity=None, poster_path='/dcIJksmlAFgR6mLRnrFBKqS7GSm.jpg', tmdb_id=66988, original_language=None, vote_average=None, vote_count=None, homepage=None, production_companies=None, runtime=None, air_date='2010-04-19', episode_count=84, name='Season 2', season_number=2), MediaTVShowSeason(adult=None, backdrop_path=None, genres=None, genre_ids=None, overview='', popularity=None, poster_path='/w2N0l6UD740nQWqYaXOgcC5Q5yM.jpg', tmdb_id=66989, original_language=None, vote_average=None, vote_count=None, homepage=None, production_companies=None, runtime=None, air_date='2011-05-01', episode_count=86, name='Season 3', season_number=3), MediaTVShowSeason(adult=None, backdrop_path=None, genres=None, genre_ids=None, overview='', popularity=None, poster_path='/ayNx0wMpEGj8NUimDwJKSnDtqbB.jpg', tmdb_id=66990, original_language=None, vote_average=None, vote_count=None, homepage=None, production_companies=None, runtime=None, air_date='2012-05-06', episode_count=70, name='Season 4', season_number=4), MediaTVShowSeason(adult=None, backdrop_path=None, genres=None, genre_ids=None, overview='', popularity=None, poster_path='/i81MGUJiY035aTQGjQfRcavi04B.jpg', tmdb_id=66991, original_language=None, vote_average=None, vote_count=None, homepage=None, production_companies=None, runtime=None, air_date='2013-06-02', episode_count=65, name='Season 5', season_number=5), MediaTVShowSeason(adult=None, backdrop_path=None, genres=None, genre_ids=None, overview='', popularity=None, poster_path='/z2PIwC5XwBef5SsikJh5BG1RW3L.jpg', tmdb_id=66992, original_language=None, vote_average=None, vote_count=None, homepage=None, production_companies=None, runtime=None, air_date='2014-05-05', episode_count=60, name='Season 6', season_number=6), MediaTVShowSeason(adult=None, backdrop_path=None, genres=None, genre_ids=None, overview='', popularity=None, poster_path='/nk5adXsVFdmnfEl5cjmWFUbOYyA.jpg', tmdb_id=66625, original_language=None, vote_average=None, vote_count=None, homepage=None, production_companies=None, runtime=None, air_date='2015-05-05', episode_count=62, name='Season 7', season_number=7), MediaTVShowSeason(adult=None, backdrop_path=None, genres=None, genre_ids=None, overview='', popularity=None, poster_path='/czd9aPfIBDu4UBVxEIrlEDQ6SkE.jpg', tmdb_id=76801, original_language=None, vote_average=None, vote_count=None, homepage=None, production_companies=None, runtime=None, air_date='2016-05-01', episode_count=63, name='Season 8', season_number=8), MediaTVShowSeason(adult=None, backdrop_path=None, genres=None, genre_ids=None, overview='', popularity=None, poster_path='/chGfzxic2AyTvcooCzvxhAQmFlp.jpg', tmdb_id=87952, original_language=None, vote_average=None, vote_count=None, homepage=None, production_companies=None, runtime=None, air_date='2017-05-01', episode_count=63, name='Season 9', season_number=9), MediaTVShowSeason(adult=None, backdrop_path=None, genres=None, genre_ids=None, overview='', popularity=None, poster_path='/1C6ZbY3mK2nZJDYg5JGwBhMLV0x.jpg', tmdb_id=103453, original_language=None, vote_average=None, vote_count=None, homepage=None, production_companies=None, runtime=None, air_date='2018-05-07', episode_count=61, name='Season 10', season_number=10), MediaTVShowSeason(adult=None, backdrop_path=None, genres=None, genre_ids=None, overview='', popularity=None, poster_path='/s5cgsITkxtPKRCZvqGcxAz0wk4C.jpg', tmdb_id=123274, original_language=None, vote_average=None, vote_count=None, homepage=None, production_companies=None, runtime=None, air_date='2019-04-29', episode_count=61, name='Season 11', season_number=11), MediaTVShowSeason(adult=None, backdrop_path=None, genres=None, genre_ids=None, overview='Jock Zonfrillo, Melissa Leong and Andy Allen take the helm of the show that celebrates food and the love of food.\\n\\nJock, Melissa and Andy will be joined in the MasterChef Australia kitchen by a delicious assortment of the world’s best chefs, including Gordon Ramsay, Heston Blumenthal and Curtis Stone, to serve up the 12th helping of MasterChef Australia. The traditional MasterChef Australia recipe also boasts some new ingredients when the best of the best from the past 11 seasons return to the kitchen in MasterChef Australia – Back To Win.', popularity=None, poster_path='/i6I1EgIqhWcqTmQkAkrkLaocHUu.jpg', tmdb_id=147837, original_language=None, vote_average=None, vote_count=None, homepage=None, production_companies=None, runtime=None, air_date='2020-04-13', episode_count=61, name='Season 12', season_number=12), MediaTVShowSeason(adult=None, backdrop_path=None, genres=None, genre_ids=None, overview='Judges Jock Zonfrillo, Melissa Leong and Andy Allen are back in the MasterChef Australia kitchen, ready to introduce the next generation of exceptional home cooks. 2021 will be seasoned to perfection with some of the world’s most recognisable and beloved chefs including Nigella Lawson, Yotam Ottolenghi, Heston Blumenthal, Massimo Bottura and Clare Smyth - plus homegrown sensations including Curtis Stone, Kirsten Tibballs, Darren Purchese, Alla Wolf-Tasker, Scott Pickett, Poh Ling Yeow, Callum Hann and Reynold Poernomo, all set to challenge the top 24 contestants.\\n\\nSacrificing everything to follow their food dreams, this season’s passionate contestants have put their lives on hold to be part of this life-changing experience. With heart, soul and drive, this season’s exceptional contestants will follow their food dreams and make magic happen.', popularity=None, poster_path='/9McjlL52fmFM9cxIh3SiXYMYlBR.jpg', tmdb_id=191284, original_language=None, vote_average=None, vote_count=None, homepage=None, production_companies=None, runtime=None, air_date='2021-04-19', episode_count=61, name='Season 13', season_number=13), MediaTVShowSeason(adult=None, backdrop_path=None, genres=None, genre_ids=None, overview='Jock Zonfrillo, Andy Allen and Melissa Leong return to judge Season 14 of MasterChef Australia: Fans & Favourites.\\n\\nOriginal champion Julie Goodwin leads the 12 returning cooks who compete alongside 12 newcomers (and no auditions). The MasterChef kitchen also once again plays host to chefs from Australia and overseas, including Adriano Zumbo, Shannon Bennet, Curtis Stone, Reynold Poernomo, Clare Smyth, Alla Wolf-Tasker, Josh Niland and Maggie Beer.', popularity=None, poster_path='/2DSeyWKp8bTsJRBn161om4lozag.jpg', tmdb_id=288035, original_language=None, vote_average=None, vote_count=None, homepage=None, production_companies=None, runtime=None, air_date='2022-04-18', episode_count=62, name='Fans & Favourites', season_number=14), MediaTVShowSeason(adult=None, backdrop_path=None, genres=None, genre_ids=None, overview='Returning for its 15th season, MasterChef Australia is back to deliver a series full of twists and turns with Secrets & Surprises.\\n\\nOriginally scheduled to premiere 1 May 2023, the series was postponed due to the sudden passing of judge Jock Zonfrillo the night before.', popularity=None, poster_path='/qpUGS70y3KBTO8yumz1KteKB9gd.jpg', tmdb_id=336567, original_language=None, vote_average=None, vote_count=None, homepage=None, production_companies=None, runtime=None, air_date='2023-05-07', episode_count=39, name='Secrets & Surprises', season_number=15)], type='Reality')"
      ]
     },
     "metadata": {},
     "output_type": "display_data"
    }
   ],
   "source": [
    "display(f\"Sample TV Show ({type(tv_show).__name__})\")\n",
    "\n",
    "display(tv_show)"
   ]
  },
  {
   "attachments": {},
   "cell_type": "markdown",
   "metadata": {},
   "source": [
    "### Random movie"
   ]
  },
  {
   "cell_type": "code",
   "execution_count": 30,
   "metadata": {},
   "outputs": [
    {
     "data": {
      "text/plain": [
       "'Random movie ID: 78'"
      ]
     },
     "metadata": {},
     "output_type": "display_data"
    }
   ],
   "source": [
    "movie_objs: list[tmdb_media_schemas.MediaMovie] = []\n",
    "rand_movie = generate_rand_id(type=\"movie\")\n",
    "\n",
    "display(f\"Random movie ID: {rand_movie}\")"
   ]
  },
  {
   "cell_type": "code",
   "execution_count": 31,
   "metadata": {},
   "outputs": [
    {
     "data": {
      "text/plain": [
       "'URL: https://api.themoviedb.org/3/movie/78?language=en-US'"
      ]
     },
     "metadata": {},
     "output_type": "display_data"
    }
   ],
   "source": [
    "url = f\"https://api.themoviedb.org/3/movie/{rand_movie}?language=en-US\"\n",
    "display(f\"URL: {url}\")"
   ]
  },
  {
   "cell_type": "code",
   "execution_count": 32,
   "metadata": {},
   "outputs": [
    {
     "data": {
      "text/plain": [
       "\"Movie: adult=False backdrop_path='/eIi3klFf7mp3oL5EEF4mLIDs26r.jpg' genres=[MediaGenres(id=878, name='Science Fiction'), MediaGenres(id=18, name='Drama'), MediaGenres(id=53, name='Thriller')] genre_ids=None overview='In the smog-choked dystopian Los Angeles of 2019, blade runner Rick Deckard is called out of retirement to terminate a quartet of replicants who have escaped to Earth seeking their creator for a way to extend their short life spans.' popularity=60.351 poster_path='/63N9uy8nd9j7Eog2axPQ8lbr3Wj.jpg' tmdb_id=78 original_language='en' vote_average=7.929 vote_count=12486 homepage='http://www.warnerbros.com/blade-runner' production_companies=[ProductionCompanies(id=5798, logo_path='/tmuI9BGXgpWLmokhlxpnG3IGNQB.png', name='Shaw Brothers', origin_country='HK'), ProductionCompanies(id=7965, logo_path=None, name='The Ladd Company', origin_country='US'), ProductionCompanies(id=174, logo_path='/IuAlhI9eVC9Z8UQWOIDdWRKSEJ.png', name='Warner Bros. Pictures', origin_country='US')] runtime=118 belongs_to_collection=MovieCollection(id=422837, name='Blade Runner Collection', poster_path='/qTcATCpiFDcgY8snQIfS2j0bFP7.jpg', backdrop_path='/bSHZIvLoPBWyGLeiAudN1mXdvQX.jpg') budget=28000000 imdb_id='tt0083658' original_title='Blade Runner' release_date='1982-06-25' revenue=41722424 title='Blade Runner' video=False\""
      ]
     },
     "metadata": {},
     "output_type": "display_data"
    }
   ],
   "source": [
    "## Get random movie\n",
    "try:\n",
    "    with httpx.Client(headers=basic_auth_headers) as client:\n",
    "        res = client.get(url)\n",
    "\n",
    "        if not res.status_code == 200:\n",
    "            display(\n",
    "                f\"Non-200 response returned: [{res.status_code}: {res.reason_phrase}]: {res.text}\"\n",
    "            )\n",
    "\n",
    "            display(f\"Adding ID {rand_movie} to list of known bad IDs\")\n",
    "\n",
    "            append_bad_id(bad_id=rand_movie, bad_id_file=\"bad_movie_ids\")\n",
    "\n",
    "        results: tmdb_responses.ReqResponse = tmdb_responses.ReqResponse.parse_obj(\n",
    "            res.__dict__\n",
    "        )\n",
    "\n",
    "        res_json: dict = json.loads(res.text)\n",
    "\n",
    "        _movie: tmdb_media_schemas.MediaMovie = tmdb_media_schemas.MediaMovie.parse_obj(\n",
    "            res_json\n",
    "        )\n",
    "\n",
    "        display(f\"Movie: {_movie}\")\n",
    "\n",
    "        movie_objs.append(_movie)\n",
    "\n",
    "except Exception as exc:\n",
    "    raise Exception(\n",
    "        f\"Unhandled exception requesting movie with ID: {rand_movie}. Details: {exc}\"\n",
    "    )"
   ]
  },
  {
   "cell_type": "code",
   "execution_count": 33,
   "metadata": {},
   "outputs": [
    {
     "data": {
      "text/plain": [
       "[MediaMovie(adult=False, backdrop_path='/eIi3klFf7mp3oL5EEF4mLIDs26r.jpg', genres=[MediaGenres(id=878, name='Science Fiction'), MediaGenres(id=18, name='Drama'), MediaGenres(id=53, name='Thriller')], genre_ids=None, overview='In the smog-choked dystopian Los Angeles of 2019, blade runner Rick Deckard is called out of retirement to terminate a quartet of replicants who have escaped to Earth seeking their creator for a way to extend their short life spans.', popularity=60.351, poster_path='/63N9uy8nd9j7Eog2axPQ8lbr3Wj.jpg', tmdb_id=78, original_language='en', vote_average=7.929, vote_count=12486, homepage='http://www.warnerbros.com/blade-runner', production_companies=[ProductionCompanies(id=5798, logo_path='/tmuI9BGXgpWLmokhlxpnG3IGNQB.png', name='Shaw Brothers', origin_country='HK'), ProductionCompanies(id=7965, logo_path=None, name='The Ladd Company', origin_country='US'), ProductionCompanies(id=174, logo_path='/IuAlhI9eVC9Z8UQWOIDdWRKSEJ.png', name='Warner Bros. Pictures', origin_country='US')], runtime=118, belongs_to_collection=MovieCollection(id=422837, name='Blade Runner Collection', poster_path='/qTcATCpiFDcgY8snQIfS2j0bFP7.jpg', backdrop_path='/bSHZIvLoPBWyGLeiAudN1mXdvQX.jpg'), budget=28000000, imdb_id='tt0083658', original_title='Blade Runner', release_date='1982-06-25', revenue=41722424, title='Blade Runner', video=False)]"
      ]
     },
     "metadata": {},
     "output_type": "display_data"
    }
   ],
   "source": [
    "display(movie_objs)"
   ]
  }
 ],
 "metadata": {
  "kernelspec": {
   "display_name": ".venv",
   "language": "python",
   "name": "python3"
  },
  "language_info": {
   "codemirror_mode": {
    "name": "ipython",
    "version": 3
   },
   "file_extension": ".py",
   "mimetype": "text/x-python",
   "name": "python",
   "nbconvert_exporter": "python",
   "pygments_lexer": "ipython3",
   "version": "3.10.0"
  },
  "orig_nbformat": 4
 },
 "nbformat": 4,
 "nbformat_minor": 2
}
