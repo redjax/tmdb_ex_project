{
 "cells": [
  {
   "attachments": {},
   "cell_type": "markdown",
   "metadata": {},
   "source": [
    "# Prototype\n",
    "[*v0.1*]\n",
    "\n",
    "Prototyping with TMDB."
   ]
  },
  {
   "attachments": {},
   "cell_type": "markdown",
   "metadata": {},
   "source": [
    "# Setup\n",
    "\n",
    "Cells in this section handle notebook setup, like importing packages and functions/vars from scripts."
   ]
  },
  {
   "attachments": {},
   "cell_type": "markdown",
   "metadata": {},
   "source": [
    "## Imports\n",
    "\n",
    "Import `stdlib` packages (i.e. `pathlib.Path`) and package dependencies."
   ]
  },
  {
   "attachments": {},
   "cell_type": "markdown",
   "metadata": {},
   "source": [
    "### stdlib"
   ]
  },
  {
   "cell_type": "code",
   "execution_count": 1,
   "metadata": {},
   "outputs": [],
   "source": [
    "from pathlib import Path\n",
    "import json\n",
    "from typing import Any, Optional, Union\n",
    "import random"
   ]
  },
  {
   "attachments": {},
   "cell_type": "markdown",
   "metadata": {},
   "source": [
    "### Custom modules & vars"
   ]
  },
  {
   "cell_type": "code",
   "execution_count": 2,
   "metadata": {},
   "outputs": [],
   "source": [
    "## Constants\n",
    "from lib.constants import (\n",
    "    auth_endpoint,\n",
    "    movie_endpoint,\n",
    "    token_endpoint,\n",
    "    api_key,\n",
    "    base_url,\n",
    "    tv_endpoint,\n",
    "    session_endpoint,\n",
    "    popular_tv_endpoint,\n",
    "    basic_auth_headers,\n",
    ")"
   ]
  },
  {
   "cell_type": "code",
   "execution_count": 3,
   "metadata": {},
   "outputs": [],
   "source": [
    "from utils.time_utils import benchmark\n",
    "from utils.file_utils import check_file_exist"
   ]
  },
  {
   "cell_type": "code",
   "execution_count": 4,
   "metadata": {},
   "outputs": [],
   "source": [
    "from core.config import api_settings, app_settings, logging_settings\n",
    "from utils.logger import get_logger"
   ]
  },
  {
   "cell_type": "code",
   "execution_count": 5,
   "metadata": {},
   "outputs": [],
   "source": [
    "from utils.tmdb_utils import (\n",
    "    authenticate,\n",
    "    get_popular_tv,\n",
    "    get_request_token,\n",
    "    retrieve_token,\n",
    "    get_bad_ids,\n",
    "    append_bad_id,\n",
    "    check_bad_id,\n",
    "    generate_rand_id,\n",
    "    get_tv_episode,\n",
    ")"
   ]
  },
  {
   "cell_type": "code",
   "execution_count": 6,
   "metadata": {},
   "outputs": [],
   "source": [
    "from core.db import Base, create_base_metadata, get_engine, get_session\n",
    "from domain.schemas.tmdb import tmdb_media_schemas, tmdb_responses"
   ]
  },
  {
   "attachments": {},
   "cell_type": "markdown",
   "metadata": {},
   "source": [
    "### Dependencies\n",
    "\n",
    "Packages installed with `pip` (or some equivalent tool)"
   ]
  },
  {
   "cell_type": "code",
   "execution_count": 7,
   "metadata": {},
   "outputs": [],
   "source": [
    "import httpx"
   ]
  },
  {
   "attachments": {},
   "cell_type": "markdown",
   "metadata": {},
   "source": [
    "## Global Vars\n",
    "\n",
    "Variables for use throughout the notebook"
   ]
  },
  {
   "cell_type": "code",
   "execution_count": 8,
   "metadata": {},
   "outputs": [],
   "source": [
    "nb_log: bool = True\n",
    "nb_verbose: bool = False"
   ]
  },
  {
   "cell_type": "code",
   "execution_count": 9,
   "metadata": {},
   "outputs": [],
   "source": [
    "log = get_logger(__name__, level=\"INFO\")"
   ]
  },
  {
   "cell_type": "code",
   "execution_count": 10,
   "metadata": {},
   "outputs": [
    {
     "name": "stdout",
     "output_type": "stream",
     "text": [
      "2023-06-19 17:51:05,029 INFO sqlalchemy.engine.Engine BEGIN (implicit)\n",
      "2023-06-19 17:51:05,030 INFO sqlalchemy.engine.Engine COMMIT\n"
     ]
    },
    {
     "data": {
      "text/plain": [
       "True"
      ]
     },
     "execution_count": 10,
     "metadata": {},
     "output_type": "execute_result"
    }
   ],
   "source": [
    "engine = get_engine(connection=\"db/demo.sqlite\", echo=True)\n",
    "SessionLocal = get_session(engine=engine)\n",
    "create_base_metadata(base_obj=Base, engine=engine)"
   ]
  },
  {
   "attachments": {},
   "cell_type": "markdown",
   "metadata": {},
   "source": [
    "## Functions\n",
    "\n",
    "Notebook-level functions. These differ from functions imported from scripts in that they are either prototypes, or functions meant only for the notebook."
   ]
  },
  {
   "attachments": {},
   "cell_type": "markdown",
   "metadata": {},
   "source": [
    "### Notebook Functions"
   ]
  },
  {
   "cell_type": "code",
   "execution_count": null,
   "metadata": {},
   "outputs": [],
   "source": []
  },
  {
   "attachments": {},
   "cell_type": "markdown",
   "metadata": {},
   "source": [
    "### Prototype"
   ]
  },
  {
   "cell_type": "code",
   "execution_count": null,
   "metadata": {},
   "outputs": [],
   "source": []
  },
  {
   "attachments": {},
   "cell_type": "markdown",
   "metadata": {},
   "source": [
    "## Classes\n",
    "\n",
    "Notebook-level classes. These differ from classes/models imported from scripts in that they are either prototypes, or functions meant only for the notebook."
   ]
  },
  {
   "attachments": {},
   "cell_type": "markdown",
   "metadata": {},
   "source": [
    "# Operations\n",
    "\n",
    "Functions & data operations."
   ]
  },
  {
   "cell_type": "code",
   "execution_count": 11,
   "metadata": {},
   "outputs": [
    {
     "name": "stdout",
     "output_type": "stream",
     "text": [
      "[INFO][2023-06-19_17:51:05][utils.tmdb_utils][authenticate ln: 36]: Requesting https://api.themoviedb.org/3/authentication\n"
     ]
    },
    {
     "data": {
      "text/plain": [
       "'Auth response: [200: OK]'"
      ]
     },
     "metadata": {},
     "output_type": "display_data"
    }
   ],
   "source": [
    "## Test authentication\n",
    "_auth = authenticate()\n",
    "display(f\"Auth response: [{_auth.status_code}: {_auth.reason_phrase}]\")"
   ]
  },
  {
   "cell_type": "code",
   "execution_count": 12,
   "metadata": {},
   "outputs": [
    {
     "name": "stdout",
     "output_type": "stream",
     "text": [
      "[INFO][2023-06-19_17:51:05][utils.tmdb_utils][get_request_token ln: 90]: Requesting https://api.themoviedb.org/3/authentication/token/new\n"
     ]
    },
    {
     "data": {
      "text/plain": [
       "'Token response: [200: OK]'"
      ]
     },
     "metadata": {},
     "output_type": "display_data"
    },
    {
     "data": {
      "text/plain": [
       "\"Token (<class 'domain.schemas.tmdb.tmdb_responses.ReqToken'>): success=True expires_at='2023-06-19 22:51:05 UTC' request_token='876431024aceca759e1c2cb257a07d175d3d2584'\""
      ]
     },
     "metadata": {},
     "output_type": "display_data"
    }
   ],
   "source": [
    "## Test retrieving auth token\n",
    "_token = get_request_token()\n",
    "display(f\"Token response: [{_token.status_code}: {_auth.reason_phrase}]\")\n",
    "\n",
    "## Retrieve token string from resonse\n",
    "token = retrieve_token(_token.text)\n",
    "display(f\"Token ({type(token)}): {token}\")"
   ]
  },
  {
   "attachments": {},
   "cell_type": "markdown",
   "metadata": {},
   "source": [
    "## Examples"
   ]
  },
  {
   "attachments": {},
   "cell_type": "markdown",
   "metadata": {},
   "source": [
    "### Example responses"
   ]
  },
  {
   "cell_type": "code",
   "execution_count": 13,
   "metadata": {},
   "outputs": [],
   "source": [
    "examples_dir: str = \"examples\"\n",
    "example_responses_dir: str = \"responses\"\n",
    "ex_res_path: str = f\"{examples_dir}/{example_responses_dir}\"\n",
    "\n",
    "if not Path(ex_res_path).exists():\n",
    "    Path(ex_res_path).mkdir(exist_ok=True, parents=True)"
   ]
  },
  {
   "cell_type": "code",
   "execution_count": 14,
   "metadata": {},
   "outputs": [],
   "source": [
    "ex_movie_res_file: str = f\"{ex_res_path}/ex_movie_response.json\"\n",
    "ex_tv_res_file: str = f\"{ex_res_path}/ex_tvshow_response.json\""
   ]
  },
  {
   "cell_type": "code",
   "execution_count": 15,
   "metadata": {},
   "outputs": [],
   "source": [
    "with open(ex_movie_res_file, \"r+\") as movie_res_file:\n",
    "    ex_movie_res: dict = json.loads(movie_res_file.read())\n",
    "\n",
    "with open(ex_tv_res_file, \"r+\") as tv_res_file:\n",
    "    ex_tv_res: dict = json.loads(tv_res_file.read())"
   ]
  },
  {
   "cell_type": "code",
   "execution_count": 16,
   "metadata": {},
   "outputs": [],
   "source": [
    "ex_movie_keys = ex_movie_res.keys()\n",
    "# display(f\"Movie dict keys:\")\n",
    "\n",
    "# for k in ex_movie_keys:\n",
    "#     display(f\"Key [{k}] ({type(ex_movie_res[k]).__name__}): {ex_movie_res[k]}\")"
   ]
  },
  {
   "cell_type": "code",
   "execution_count": 17,
   "metadata": {},
   "outputs": [],
   "source": [
    "ex_tv_keys = ex_tv_res.keys()\n",
    "# display(f\"TV dict keys:\")\n",
    "\n",
    "# for k in ex_tv_keys:"
   ]
  },
  {
   "cell_type": "code",
   "execution_count": 18,
   "metadata": {},
   "outputs": [],
   "source": [
    "shared_keys: list[str] = []\n",
    "movie_only_keys: list[str] = []\n",
    "tv_only_keys: list[str] = []"
   ]
  },
  {
   "cell_type": "code",
   "execution_count": 19,
   "metadata": {},
   "outputs": [],
   "source": [
    "for k in ex_movie_keys:\n",
    "    if not k in ex_tv_keys:\n",
    "        # display(f\"Movie-specific key found: {k} ({type(ex_movie_res[k]).__name__})\")\n",
    "        movie_only_keys.append(k)\n",
    "\n",
    "    else:\n",
    "        if not k in shared_keys:\n",
    "            shared_keys.append(k)"
   ]
  },
  {
   "cell_type": "code",
   "execution_count": 20,
   "metadata": {},
   "outputs": [],
   "source": [
    "for k in ex_tv_keys:\n",
    "    if not k in ex_movie_keys:\n",
    "        # display(f\"TV-specific key found: {k} ({type(ex_tv_res[k]).__name__})\")\n",
    "\n",
    "        tv_only_keys.append(k)\n",
    "\n",
    "    else:\n",
    "        if not k in shared_keys:\n",
    "            shared_keys.append(k)"
   ]
  },
  {
   "cell_type": "code",
   "execution_count": 21,
   "metadata": {},
   "outputs": [
    {
     "data": {
      "text/plain": [
       "'Keys only in movie response:'"
      ]
     },
     "metadata": {},
     "output_type": "display_data"
    },
    {
     "data": {
      "text/plain": [
       "'belongs_to_collection'"
      ]
     },
     "metadata": {},
     "output_type": "display_data"
    },
    {
     "data": {
      "text/plain": [
       "'budget'"
      ]
     },
     "metadata": {},
     "output_type": "display_data"
    },
    {
     "data": {
      "text/plain": [
       "'imdb_id'"
      ]
     },
     "metadata": {},
     "output_type": "display_data"
    },
    {
     "data": {
      "text/plain": [
       "'original_title'"
      ]
     },
     "metadata": {},
     "output_type": "display_data"
    },
    {
     "data": {
      "text/plain": [
       "'release_date'"
      ]
     },
     "metadata": {},
     "output_type": "display_data"
    },
    {
     "data": {
      "text/plain": [
       "'revenue'"
      ]
     },
     "metadata": {},
     "output_type": "display_data"
    },
    {
     "data": {
      "text/plain": [
       "'runtime'"
      ]
     },
     "metadata": {},
     "output_type": "display_data"
    },
    {
     "data": {
      "text/plain": [
       "'title'"
      ]
     },
     "metadata": {},
     "output_type": "display_data"
    },
    {
     "data": {
      "text/plain": [
       "'video'"
      ]
     },
     "metadata": {},
     "output_type": "display_data"
    }
   ],
   "source": [
    "display(f\"Keys only in movie response:\")\n",
    "\n",
    "for movie_k in movie_only_keys:\n",
    "    display(movie_k)"
   ]
  },
  {
   "cell_type": "code",
   "execution_count": 22,
   "metadata": {},
   "outputs": [
    {
     "data": {
      "text/plain": [
       "'Keys only in tv response:'"
      ]
     },
     "metadata": {},
     "output_type": "display_data"
    },
    {
     "data": {
      "text/plain": [
       "'created_by'"
      ]
     },
     "metadata": {},
     "output_type": "display_data"
    },
    {
     "data": {
      "text/plain": [
       "'episode_run_time'"
      ]
     },
     "metadata": {},
     "output_type": "display_data"
    },
    {
     "data": {
      "text/plain": [
       "'first_air_date'"
      ]
     },
     "metadata": {},
     "output_type": "display_data"
    },
    {
     "data": {
      "text/plain": [
       "'in_production'"
      ]
     },
     "metadata": {},
     "output_type": "display_data"
    },
    {
     "data": {
      "text/plain": [
       "'languages'"
      ]
     },
     "metadata": {},
     "output_type": "display_data"
    },
    {
     "data": {
      "text/plain": [
       "'last_air_date'"
      ]
     },
     "metadata": {},
     "output_type": "display_data"
    },
    {
     "data": {
      "text/plain": [
       "'last_episode_to_air'"
      ]
     },
     "metadata": {},
     "output_type": "display_data"
    },
    {
     "data": {
      "text/plain": [
       "'name'"
      ]
     },
     "metadata": {},
     "output_type": "display_data"
    },
    {
     "data": {
      "text/plain": [
       "'next_episode_to_air'"
      ]
     },
     "metadata": {},
     "output_type": "display_data"
    },
    {
     "data": {
      "text/plain": [
       "'networks'"
      ]
     },
     "metadata": {},
     "output_type": "display_data"
    },
    {
     "data": {
      "text/plain": [
       "'number_of_episodes'"
      ]
     },
     "metadata": {},
     "output_type": "display_data"
    },
    {
     "data": {
      "text/plain": [
       "'number_of_seasons'"
      ]
     },
     "metadata": {},
     "output_type": "display_data"
    },
    {
     "data": {
      "text/plain": [
       "'origin_country'"
      ]
     },
     "metadata": {},
     "output_type": "display_data"
    },
    {
     "data": {
      "text/plain": [
       "'original_name'"
      ]
     },
     "metadata": {},
     "output_type": "display_data"
    },
    {
     "data": {
      "text/plain": [
       "'seasons'"
      ]
     },
     "metadata": {},
     "output_type": "display_data"
    },
    {
     "data": {
      "text/plain": [
       "'type'"
      ]
     },
     "metadata": {},
     "output_type": "display_data"
    }
   ],
   "source": [
    "display(f\"Keys only in tv response:\")\n",
    "\n",
    "for tv_k in tv_only_keys:\n",
    "    display(tv_k)"
   ]
  },
  {
   "cell_type": "code",
   "execution_count": 23,
   "metadata": {},
   "outputs": [
    {
     "data": {
      "text/plain": [
       "'Keys in both movies and tv shows:'"
      ]
     },
     "metadata": {},
     "output_type": "display_data"
    },
    {
     "data": {
      "text/plain": [
       "['adult',\n",
       " 'backdrop_path',\n",
       " 'genres',\n",
       " 'homepage',\n",
       " 'id',\n",
       " 'original_language',\n",
       " 'overview',\n",
       " 'popularity',\n",
       " 'poster_path',\n",
       " 'production_companies',\n",
       " 'production_countries',\n",
       " 'spoken_languages',\n",
       " 'status',\n",
       " 'tagline',\n",
       " 'vote_average',\n",
       " 'vote_count']"
      ]
     },
     "metadata": {},
     "output_type": "display_data"
    }
   ],
   "source": [
    "display(f\"Keys in both movies and tv shows:\")\n",
    "\n",
    "display(shared_keys)"
   ]
  },
  {
   "attachments": {},
   "cell_type": "markdown",
   "metadata": {},
   "source": [
    "### TV Show examples"
   ]
  },
  {
   "cell_type": "code",
   "execution_count": 24,
   "metadata": {},
   "outputs": [
    {
     "name": "stdout",
     "output_type": "stream",
     "text": [
      "[INFO][2023-06-19_17:51:05][utils.tmdb_utils][get_popular_tv ln: 222]: Requesting https://api.themoviedb.org/3/tv/popular?language=en-US&page=1\n"
     ]
    },
    {
     "data": {
      "text/plain": [
       "'Retrieve popular TV shows response: [200: OK]'"
      ]
     },
     "metadata": {},
     "output_type": "display_data"
    }
   ],
   "source": [
    "## Retrieve popular TV shows\n",
    "popular_tv = get_popular_tv()\n",
    "display(\n",
    "    f\"Retrieve popular TV shows response: [{popular_tv.status_code}: {popular_tv.reason_phrase}]\"\n",
    ")"
   ]
  },
  {
   "cell_type": "code",
   "execution_count": 25,
   "metadata": {},
   "outputs": [
    {
     "data": {
      "text/plain": [
       "dict_keys(['page', 'results', 'total_pages', 'total_results'])"
      ]
     },
     "metadata": {},
     "output_type": "display_data"
    },
    {
     "data": {
      "text/plain": [
       "{'backdrop_path': '/t2rAdgjSh0WYbXzdOB5zTDqzdCI.jpg',\n",
       " 'first_air_date': '2022-11-02',\n",
       " 'genre_ids': [18],\n",
       " 'id': 213713,\n",
       " 'name': 'Faltu',\n",
       " 'origin_country': ['IN'],\n",
       " 'original_language': 'hi',\n",
       " 'original_name': 'Faltu',\n",
       " 'overview': \"What's in a name? Amidst the arid landscape of Rajasthan, a young woman with dreamy eyes struggles to prove her worth.\",\n",
       " 'popularity': 2699.206,\n",
       " 'poster_path': '/lgyFuoXs7GvKJN0mNm7z7OMOFuZ.jpg',\n",
       " 'vote_average': 4.6,\n",
       " 'vote_count': 29}"
      ]
     },
     "metadata": {},
     "output_type": "display_data"
    },
    {
     "data": {
      "text/plain": [
       "\"genre_ids (<class 'list'>)\""
      ]
     },
     "metadata": {},
     "output_type": "display_data"
    }
   ],
   "source": [
    "## Create dictionary from popular_tv response\n",
    "pop_tv_dict: dict = popular_tv.text_json()\n",
    "display(pop_tv_dict.keys())\n",
    "\n",
    "display(pop_tv_dict[\"results\"][0])\n",
    "\n",
    "display(f\"genre_ids ({type(pop_tv_dict['results'][0]['genre_ids'])})\")\n",
    "\n",
    "## Create MediaResponse class instance from pop_tv_dict\n",
    "pop_tv: tmdb_media_schemas.MediaResponse = tmdb_media_schemas.MediaResponse.parse_obj(\n",
    "    pop_tv_dict\n",
    ")\n",
    "\n",
    "# display(f\"Popular TV shows response type: ({type(pop_tv)}): {pop_tv}\")"
   ]
  },
  {
   "cell_type": "code",
   "execution_count": 26,
   "metadata": {},
   "outputs": [
    {
     "data": {
      "text/plain": [
       "\"Sample (<class 'domain.schemas.tmdb.tmdb_media_schemas.MediaTVShow'>): adult=None backdrop_path='/4NcAz1QIqYnhe3u2pnVEVNwfTZf.jpg' genres=None genre_ids=[18, 10766, 10751] overview='Virat sacrifices his love to honour the promise he made to a dying man. Trapped between the past and the present, will he find love beyond the chains of duty?' popularity=2207.022 poster_path='/u3NVGYCpkAgBArXogLuHPfpSNwG.jpg' tmdb_id=111453 original_language='hi' vote_average=5.4 vote_count=41 homepage=None production_companies=None runtime=None created_by=None episode_run_time=None first_air_date='2020-10-05' in_production=None languages=None last_air_date=None last_episode_to_air=None next_episode_to_air=None name='Ghum Hai Kisikey Pyaar Meiin' origin_country=['IN'] original_name='घुम है किसिकी प्यार में' networks=None number_of_episodes=None number_of_seasons=None seasons=None type=None\""
      ]
     },
     "metadata": {},
     "output_type": "display_data"
    }
   ],
   "source": [
    "## grab a random sample TV show from popular TV shows\n",
    "pop_tv_results: int = len(pop_tv.results)\n",
    "rand_pop_tv: int = random.randint(0, pop_tv_results - 1)\n",
    "\n",
    "_sample: tmdb_media_schemas.MediaTVShow = pop_tv.results[rand_pop_tv]\n",
    "display(f\"Sample ({type(_sample)}): {_sample}\")"
   ]
  },
  {
   "cell_type": "code",
   "execution_count": 27,
   "metadata": {},
   "outputs": [
    {
     "data": {
      "text/plain": [
       "'Sample TV URL: https://api.themoviedb.org/3/tv/111453'"
      ]
     },
     "metadata": {},
     "output_type": "display_data"
    }
   ],
   "source": [
    "## Retrieve full listing from TMDB\n",
    "url = f\"{api_settings.BASE_URL}/tv/{_sample.tmdb_id}\"\n",
    "display(f\"Sample TV URL: {url}\")"
   ]
  },
  {
   "cell_type": "code",
   "execution_count": 28,
   "metadata": {},
   "outputs": [
    {
     "name": "stdout",
     "output_type": "stream",
     "text": [
      "[INFO][2023-06-19_17:51:05][utils.tmdb_utils][get_tv_episode ln: 274]: Requesting https://api.themoviedb.org/3/tv/111453\n"
     ]
    }
   ],
   "source": [
    "_show = get_tv_episode(tmdb_id=_sample.tmdb_id)\n",
    "_show_dict: dict = _show.text_json()\n",
    "\n",
    "tv_show: tmdb_media_schemas.MediaTVShow = tmdb_media_schemas.MediaTVShow.parse_obj(\n",
    "    _show_dict\n",
    ")"
   ]
  },
  {
   "cell_type": "code",
   "execution_count": 29,
   "metadata": {},
   "outputs": [
    {
     "data": {
      "text/plain": [
       "'Sample TV Show (MediaTVShow)'"
      ]
     },
     "metadata": {},
     "output_type": "display_data"
    },
    {
     "data": {
      "text/plain": [
       "MediaTVShow(adult=False, backdrop_path='/qcpC9lv6VLL4Zw45EveYELyje1w.jpg', genres=[MediaGenres(id=18, name='Drama'), MediaGenres(id=10766, name='Soap'), MediaGenres(id=10751, name='Family')], genre_ids=None, overview='Virat sacrifices his love to honour the promise he made to a dying man. Trapped between the past and the present, will he find love beyond the chains of duty?', popularity=2207.022, poster_path='/u3NVGYCpkAgBArXogLuHPfpSNwG.jpg', tmdb_id=111453, original_language='hi', vote_average=5.378, vote_count=41, homepage='', production_companies=[ProductionCompanies(id=141735, logo_path='/ba2GSbH2KnInGel6L6XIy3dtGQ5.png', name='Cockcrow Entertainment & Shaika Films', origin_country='IN')], runtime=None, created_by=[TVShowCreator(id=1846290, credit_id='5f8476a169eb900038be37e3', name='Leena Gangopadhyay', gender=1, profile_path='/zHaUe3Lckgsm12xNtqMq99jPnyO.jpg')], episode_run_time=[22], first_air_date='2020-10-05', in_production=True, languages=['hi'], last_air_date='2023-06-18', last_episode_to_air=MediaTVShowAiredEpisode(adult=None, backdrop_path=None, genres=None, genre_ids=None, overview='', popularity=None, poster_path=None, tmdb_id=4497862, original_language=None, vote_average=0.0, vote_count=0, homepage=None, production_companies=None, runtime=None, name='Episode 885', air_date='2023-06-18', episode_number=885, production_code='', season_number=1, show_id=111453, still_path=None), next_episode_to_air=MediaTVShowAiredEpisode(adult=None, backdrop_path=None, genres=None, genre_ids=None, overview='', popularity=None, poster_path=None, tmdb_id=4497863, original_language=None, vote_average=0.0, vote_count=0, homepage=None, production_companies=None, runtime=None, name='Episode 886', air_date='2023-06-19', episode_number=886, production_code='', season_number=1, show_id=111453, still_path=None), name='Ghum Hai Kisikey Pyaar Meiin', origin_country=['IN'], original_name='घुम है किसिकी प्यार में', networks=[MediaTVShowNetwork(tmdb_id=159, logo_path='/9cEITzi1VyVkre3Fom57vJBOEW3.png', name='StarPlus', origin_country='IN')], number_of_episodes=886, number_of_seasons=1, seasons=[MediaTVShowSeason(adult=None, backdrop_path=None, genres=None, genre_ids=None, overview='', popularity=None, poster_path='/uNjnoT3RChs2r7O9pDyx7TNBvIj.jpg', tmdb_id=165574, original_language=None, vote_average=None, vote_count=None, homepage=None, production_companies=None, runtime=None, air_date='2020-10-05', episode_count=886, name='Season 1', season_number=1)], type='Scripted')"
      ]
     },
     "metadata": {},
     "output_type": "display_data"
    }
   ],
   "source": [
    "display(f\"Sample TV Show ({type(tv_show).__name__})\")\n",
    "\n",
    "display(tv_show)"
   ]
  },
  {
   "attachments": {},
   "cell_type": "markdown",
   "metadata": {},
   "source": [
    "### Random movie"
   ]
  },
  {
   "cell_type": "code",
   "execution_count": 30,
   "metadata": {},
   "outputs": [
    {
     "data": {
      "text/plain": [
       "'Random movie ID: 159'"
      ]
     },
     "metadata": {},
     "output_type": "display_data"
    }
   ],
   "source": [
    "movie_objs: list[tmdb_media_schemas.MediaMovie] = []\n",
    "rand_movie = generate_rand_id(type=\"movie\")\n",
    "\n",
    "display(f\"Random movie ID: {rand_movie}\")"
   ]
  },
  {
   "cell_type": "code",
   "execution_count": 31,
   "metadata": {},
   "outputs": [
    {
     "data": {
      "text/plain": [
       "'URL: https://api.themoviedb.org/3/movie/159?language=en-US'"
      ]
     },
     "metadata": {},
     "output_type": "display_data"
    }
   ],
   "source": [
    "url = f\"https://api.themoviedb.org/3/movie/{rand_movie}?language=en-US\"\n",
    "display(f\"URL: {url}\")"
   ]
  },
  {
   "cell_type": "code",
   "execution_count": 32,
   "metadata": {},
   "outputs": [
    {
     "data": {
      "text/plain": [
       "\"Movie: adult=False backdrop_path='/1BMnXAAMbGN8N1xm2ZvlSVVUQiy.jpg' genres=[MediaGenres(id=35, name='Comedy'), MediaGenres(id=18, name='Drama')] genre_ids=None overview='Der Bewegte Mann is a German comedy about a heterosexual man, Axel, who is thrown out of his girlfriends home for cheating and ends up moving in with a gay man. Axel learns the advantages of living with gay men even though they are attracted to him and when his girlfriend wants him back he must make a tough decision.' popularity=8.232 poster_path='/2TcZBHcseRXLxNq2RXnKIsbKZwi.jpg' tmdb_id=159 original_language='de' vote_average=6.2 vote_count=87 homepage='' production_companies=[ProductionCompanies(id=47, logo_path='/i7Z9ot2o3N5Sa3HrF09kniFs2y8.png', name='Constantin Film', origin_country='DE'), ProductionCompanies(id=99, logo_path=None, name='Olga-Film GmbH (München)', origin_country='')] runtime=90 belongs_to_collection=None budget=0 imdb_id='tt0109255' original_title='Der bewegte Mann' release_date='1994-10-05' revenue=0 title='Maybe... Maybe Not' video=False\""
      ]
     },
     "metadata": {},
     "output_type": "display_data"
    }
   ],
   "source": [
    "## Get random movie\n",
    "try:\n",
    "    with httpx.Client(headers=basic_auth_headers) as client:\n",
    "        res = client.get(url)\n",
    "\n",
    "        if not res.status_code == 200:\n",
    "            display(\n",
    "                f\"Non-200 response returned: [{res.status_code}: {res.reason_phrase}]: {res.text}\"\n",
    "            )\n",
    "\n",
    "            display(f\"Adding ID {rand_movie} to list of known bad IDs\")\n",
    "\n",
    "            append_bad_id(bad_id=rand_movie, bad_id_file=\"bad_movie_ids\")\n",
    "\n",
    "        results: tmdb_responses.ReqResponse = tmdb_responses.ReqResponse.parse_obj(\n",
    "            res.__dict__\n",
    "        )\n",
    "\n",
    "        res_json: dict = json.loads(res.text)\n",
    "\n",
    "        _movie: tmdb_media_schemas.MediaMovie = tmdb_media_schemas.MediaMovie.parse_obj(\n",
    "            res_json\n",
    "        )\n",
    "\n",
    "        display(f\"Movie: {_movie}\")\n",
    "\n",
    "        movie_objs.append(_movie)\n",
    "\n",
    "except Exception as exc:\n",
    "    raise Exception(\n",
    "        f\"Unhandled exception requesting movie with ID: {rand_movie}. Details: {exc}\"\n",
    "    )"
   ]
  },
  {
   "cell_type": "code",
   "execution_count": 33,
   "metadata": {},
   "outputs": [
    {
     "data": {
      "text/plain": [
       "[MediaMovie(adult=False, backdrop_path='/1BMnXAAMbGN8N1xm2ZvlSVVUQiy.jpg', genres=[MediaGenres(id=35, name='Comedy'), MediaGenres(id=18, name='Drama')], genre_ids=None, overview='Der Bewegte Mann is a German comedy about a heterosexual man, Axel, who is thrown out of his girlfriends home for cheating and ends up moving in with a gay man. Axel learns the advantages of living with gay men even though they are attracted to him and when his girlfriend wants him back he must make a tough decision.', popularity=8.232, poster_path='/2TcZBHcseRXLxNq2RXnKIsbKZwi.jpg', tmdb_id=159, original_language='de', vote_average=6.2, vote_count=87, homepage='', production_companies=[ProductionCompanies(id=47, logo_path='/i7Z9ot2o3N5Sa3HrF09kniFs2y8.png', name='Constantin Film', origin_country='DE'), ProductionCompanies(id=99, logo_path=None, name='Olga-Film GmbH (München)', origin_country='')], runtime=90, belongs_to_collection=None, budget=0, imdb_id='tt0109255', original_title='Der bewegte Mann', release_date='1994-10-05', revenue=0, title='Maybe... Maybe Not', video=False)]"
      ]
     },
     "metadata": {},
     "output_type": "display_data"
    }
   ],
   "source": [
    "display(movie_objs)"
   ]
  }
 ],
 "metadata": {
  "kernelspec": {
   "display_name": ".venv",
   "language": "python",
   "name": "python3"
  },
  "language_info": {
   "codemirror_mode": {
    "name": "ipython",
    "version": 3
   },
   "file_extension": ".py",
   "mimetype": "text/x-python",
   "name": "python",
   "nbconvert_exporter": "python",
   "pygments_lexer": "ipython3",
   "version": "3.10.0"
  },
  "orig_nbformat": 4
 },
 "nbformat": 4,
 "nbformat_minor": 2
}
